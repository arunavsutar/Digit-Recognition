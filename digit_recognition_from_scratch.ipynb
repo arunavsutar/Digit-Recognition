{
 "cells": [
  {
   "cell_type": "markdown",
   "id": "11a0b0f0",
   "metadata": {},
   "source": [
    "### Importing packages"
   ]
  },
  {
   "cell_type": "code",
   "execution_count": 1,
   "id": "a3db1b7b",
   "metadata": {},
   "outputs": [],
   "source": [
    "import numpy as np\n",
    "import pandas as pd\n",
    "import matplotlib.pyplot as plt\n",
    "from PIL import Image"
   ]
  },
  {
   "cell_type": "markdown",
   "id": "7b725967",
   "metadata": {},
   "source": [
    "### Importing dataset and making it into the correct format"
   ]
  },
  {
   "cell_type": "code",
   "execution_count": 164,
   "id": "a35a3a12",
   "metadata": {},
   "outputs": [],
   "source": [
    "train=pd.read_csv(\"train.csv\")"
   ]
  },
  {
   "cell_type": "code",
   "execution_count": 165,
   "id": "ad660bd9",
   "metadata": {},
   "outputs": [
    {
     "data": {
      "text/html": [
       "<div>\n",
       "<style scoped>\n",
       "    .dataframe tbody tr th:only-of-type {\n",
       "        vertical-align: middle;\n",
       "    }\n",
       "\n",
       "    .dataframe tbody tr th {\n",
       "        vertical-align: top;\n",
       "    }\n",
       "\n",
       "    .dataframe thead th {\n",
       "        text-align: right;\n",
       "    }\n",
       "</style>\n",
       "<table border=\"1\" class=\"dataframe\">\n",
       "  <thead>\n",
       "    <tr style=\"text-align: right;\">\n",
       "      <th></th>\n",
       "      <th>label</th>\n",
       "      <th>pixel0</th>\n",
       "      <th>pixel1</th>\n",
       "      <th>pixel2</th>\n",
       "      <th>pixel3</th>\n",
       "      <th>pixel4</th>\n",
       "      <th>pixel5</th>\n",
       "      <th>pixel6</th>\n",
       "      <th>pixel7</th>\n",
       "      <th>pixel8</th>\n",
       "      <th>...</th>\n",
       "      <th>pixel774</th>\n",
       "      <th>pixel775</th>\n",
       "      <th>pixel776</th>\n",
       "      <th>pixel777</th>\n",
       "      <th>pixel778</th>\n",
       "      <th>pixel779</th>\n",
       "      <th>pixel780</th>\n",
       "      <th>pixel781</th>\n",
       "      <th>pixel782</th>\n",
       "      <th>pixel783</th>\n",
       "    </tr>\n",
       "  </thead>\n",
       "  <tbody>\n",
       "    <tr>\n",
       "      <th>0</th>\n",
       "      <td>1</td>\n",
       "      <td>0</td>\n",
       "      <td>0</td>\n",
       "      <td>0</td>\n",
       "      <td>0</td>\n",
       "      <td>0</td>\n",
       "      <td>0</td>\n",
       "      <td>0</td>\n",
       "      <td>0</td>\n",
       "      <td>0</td>\n",
       "      <td>...</td>\n",
       "      <td>0</td>\n",
       "      <td>0</td>\n",
       "      <td>0</td>\n",
       "      <td>0</td>\n",
       "      <td>0</td>\n",
       "      <td>0</td>\n",
       "      <td>0</td>\n",
       "      <td>0</td>\n",
       "      <td>0</td>\n",
       "      <td>0</td>\n",
       "    </tr>\n",
       "    <tr>\n",
       "      <th>1</th>\n",
       "      <td>0</td>\n",
       "      <td>0</td>\n",
       "      <td>0</td>\n",
       "      <td>0</td>\n",
       "      <td>0</td>\n",
       "      <td>0</td>\n",
       "      <td>0</td>\n",
       "      <td>0</td>\n",
       "      <td>0</td>\n",
       "      <td>0</td>\n",
       "      <td>...</td>\n",
       "      <td>0</td>\n",
       "      <td>0</td>\n",
       "      <td>0</td>\n",
       "      <td>0</td>\n",
       "      <td>0</td>\n",
       "      <td>0</td>\n",
       "      <td>0</td>\n",
       "      <td>0</td>\n",
       "      <td>0</td>\n",
       "      <td>0</td>\n",
       "    </tr>\n",
       "    <tr>\n",
       "      <th>2</th>\n",
       "      <td>1</td>\n",
       "      <td>0</td>\n",
       "      <td>0</td>\n",
       "      <td>0</td>\n",
       "      <td>0</td>\n",
       "      <td>0</td>\n",
       "      <td>0</td>\n",
       "      <td>0</td>\n",
       "      <td>0</td>\n",
       "      <td>0</td>\n",
       "      <td>...</td>\n",
       "      <td>0</td>\n",
       "      <td>0</td>\n",
       "      <td>0</td>\n",
       "      <td>0</td>\n",
       "      <td>0</td>\n",
       "      <td>0</td>\n",
       "      <td>0</td>\n",
       "      <td>0</td>\n",
       "      <td>0</td>\n",
       "      <td>0</td>\n",
       "    </tr>\n",
       "    <tr>\n",
       "      <th>3</th>\n",
       "      <td>4</td>\n",
       "      <td>0</td>\n",
       "      <td>0</td>\n",
       "      <td>0</td>\n",
       "      <td>0</td>\n",
       "      <td>0</td>\n",
       "      <td>0</td>\n",
       "      <td>0</td>\n",
       "      <td>0</td>\n",
       "      <td>0</td>\n",
       "      <td>...</td>\n",
       "      <td>0</td>\n",
       "      <td>0</td>\n",
       "      <td>0</td>\n",
       "      <td>0</td>\n",
       "      <td>0</td>\n",
       "      <td>0</td>\n",
       "      <td>0</td>\n",
       "      <td>0</td>\n",
       "      <td>0</td>\n",
       "      <td>0</td>\n",
       "    </tr>\n",
       "    <tr>\n",
       "      <th>4</th>\n",
       "      <td>0</td>\n",
       "      <td>0</td>\n",
       "      <td>0</td>\n",
       "      <td>0</td>\n",
       "      <td>0</td>\n",
       "      <td>0</td>\n",
       "      <td>0</td>\n",
       "      <td>0</td>\n",
       "      <td>0</td>\n",
       "      <td>0</td>\n",
       "      <td>...</td>\n",
       "      <td>0</td>\n",
       "      <td>0</td>\n",
       "      <td>0</td>\n",
       "      <td>0</td>\n",
       "      <td>0</td>\n",
       "      <td>0</td>\n",
       "      <td>0</td>\n",
       "      <td>0</td>\n",
       "      <td>0</td>\n",
       "      <td>0</td>\n",
       "    </tr>\n",
       "  </tbody>\n",
       "</table>\n",
       "<p>5 rows × 785 columns</p>\n",
       "</div>"
      ],
      "text/plain": [
       "   label  pixel0  pixel1  pixel2  pixel3  pixel4  pixel5  pixel6  pixel7  \\\n",
       "0      1       0       0       0       0       0       0       0       0   \n",
       "1      0       0       0       0       0       0       0       0       0   \n",
       "2      1       0       0       0       0       0       0       0       0   \n",
       "3      4       0       0       0       0       0       0       0       0   \n",
       "4      0       0       0       0       0       0       0       0       0   \n",
       "\n",
       "   pixel8  ...  pixel774  pixel775  pixel776  pixel777  pixel778  pixel779  \\\n",
       "0       0  ...         0         0         0         0         0         0   \n",
       "1       0  ...         0         0         0         0         0         0   \n",
       "2       0  ...         0         0         0         0         0         0   \n",
       "3       0  ...         0         0         0         0         0         0   \n",
       "4       0  ...         0         0         0         0         0         0   \n",
       "\n",
       "   pixel780  pixel781  pixel782  pixel783  \n",
       "0         0         0         0         0  \n",
       "1         0         0         0         0  \n",
       "2         0         0         0         0  \n",
       "3         0         0         0         0  \n",
       "4         0         0         0         0  \n",
       "\n",
       "[5 rows x 785 columns]"
      ]
     },
     "execution_count": 165,
     "metadata": {},
     "output_type": "execute_result"
    }
   ],
   "source": [
    "train.head()"
   ]
  },
  {
   "cell_type": "code",
   "execution_count": 166,
   "id": "d63da7ac",
   "metadata": {},
   "outputs": [],
   "source": [
    "data=np.array(train)"
   ]
  },
  {
   "cell_type": "code",
   "execution_count": 167,
   "id": "b995b0ef",
   "metadata": {},
   "outputs": [
    {
     "data": {
      "text/plain": [
       "numpy.ndarray"
      ]
     },
     "execution_count": 167,
     "metadata": {},
     "output_type": "execute_result"
    }
   ],
   "source": [
    "type(data)"
   ]
  },
  {
   "cell_type": "code",
   "execution_count": 168,
   "id": "4dd3d7fe",
   "metadata": {},
   "outputs": [],
   "source": [
    "m,n=data.shape"
   ]
  },
  {
   "cell_type": "code",
   "execution_count": 169,
   "id": "319962df",
   "metadata": {},
   "outputs": [
    {
     "data": {
      "text/plain": [
       "(42000, 785)"
      ]
     },
     "execution_count": 169,
     "metadata": {},
     "output_type": "execute_result"
    }
   ],
   "source": [
    "data.shape"
   ]
  },
  {
   "cell_type": "code",
   "execution_count": 170,
   "id": "8a7c3af7",
   "metadata": {},
   "outputs": [],
   "source": [
    "np.random.shuffle(data)"
   ]
  },
  {
   "cell_type": "code",
   "execution_count": 171,
   "id": "8575fc41",
   "metadata": {},
   "outputs": [],
   "source": [
    "data_dev=data[0:2000].T"
   ]
  },
  {
   "cell_type": "code",
   "execution_count": 172,
   "id": "af11a9e0",
   "metadata": {},
   "outputs": [
    {
     "data": {
      "text/plain": [
       "(785, 2000)"
      ]
     },
     "execution_count": 172,
     "metadata": {},
     "output_type": "execute_result"
    }
   ],
   "source": [
    "data_dev.shape"
   ]
  },
  {
   "cell_type": "code",
   "execution_count": 173,
   "id": "2e232657",
   "metadata": {},
   "outputs": [],
   "source": [
    "Y_dev=data_dev[0]\n",
    "X_dev=data_dev[1:n]"
   ]
  },
  {
   "cell_type": "code",
   "execution_count": 174,
   "id": "8cee22d9",
   "metadata": {},
   "outputs": [
    {
     "data": {
      "text/plain": [
       "array([1, 5, 1, ..., 7, 9, 9], dtype=int64)"
      ]
     },
     "execution_count": 174,
     "metadata": {},
     "output_type": "execute_result"
    }
   ],
   "source": [
    "Y_dev"
   ]
  },
  {
   "cell_type": "code",
   "execution_count": 175,
   "id": "51920d43",
   "metadata": {},
   "outputs": [],
   "source": [
    "Y_dev=Y_dev.reshape(1,2000)"
   ]
  },
  {
   "cell_type": "code",
   "execution_count": 176,
   "id": "097fe6b7",
   "metadata": {},
   "outputs": [
    {
     "data": {
      "text/plain": [
       "array([[1, 5, 1, ..., 7, 9, 9]], dtype=int64)"
      ]
     },
     "execution_count": 176,
     "metadata": {},
     "output_type": "execute_result"
    }
   ],
   "source": [
    "Y_dev"
   ]
  },
  {
   "cell_type": "code",
   "execution_count": 177,
   "id": "3140feb4",
   "metadata": {},
   "outputs": [
    {
     "data": {
      "text/plain": [
       "(784, 2000)"
      ]
     },
     "execution_count": 177,
     "metadata": {},
     "output_type": "execute_result"
    }
   ],
   "source": [
    "X_dev.shape"
   ]
  },
  {
   "cell_type": "code",
   "execution_count": 178,
   "id": "8c9e686b",
   "metadata": {},
   "outputs": [
    {
     "data": {
      "text/plain": [
       "785"
      ]
     },
     "execution_count": 178,
     "metadata": {},
     "output_type": "execute_result"
    }
   ],
   "source": [
    "n"
   ]
  },
  {
   "cell_type": "code",
   "execution_count": 179,
   "id": "fdb981c2",
   "metadata": {},
   "outputs": [],
   "source": [
    "data_train=data[2000:m].T"
   ]
  },
  {
   "cell_type": "code",
   "execution_count": 180,
   "id": "0b18e0bf",
   "metadata": {},
   "outputs": [
    {
     "data": {
      "text/plain": [
       "(785, 40000)"
      ]
     },
     "execution_count": 180,
     "metadata": {},
     "output_type": "execute_result"
    }
   ],
   "source": [
    "data_train.shape"
   ]
  },
  {
   "cell_type": "code",
   "execution_count": 181,
   "id": "9b5ffd18",
   "metadata": {},
   "outputs": [],
   "source": [
    "Y_train=data_train[0].reshape(1,40000)"
   ]
  },
  {
   "cell_type": "code",
   "execution_count": 182,
   "id": "8668dc7c",
   "metadata": {},
   "outputs": [],
   "source": [
    "X_train=data_train[1:n]"
   ]
  },
  {
   "cell_type": "code",
   "execution_count": 183,
   "id": "8d94471e",
   "metadata": {},
   "outputs": [
    {
     "data": {
      "text/plain": [
       "(784, 40000)"
      ]
     },
     "execution_count": 183,
     "metadata": {},
     "output_type": "execute_result"
    }
   ],
   "source": [
    "X_train.shape"
   ]
  },
  {
   "cell_type": "code",
   "execution_count": 184,
   "id": "c6b4c0e2",
   "metadata": {},
   "outputs": [
    {
     "data": {
      "text/plain": [
       "(1, 40000)"
      ]
     },
     "execution_count": 184,
     "metadata": {},
     "output_type": "execute_result"
    }
   ],
   "source": [
    "Y_train.shape"
   ]
  },
  {
   "cell_type": "code",
   "execution_count": 185,
   "id": "65759c63",
   "metadata": {},
   "outputs": [
    {
     "data": {
      "text/plain": [
       "40000"
      ]
     },
     "execution_count": 185,
     "metadata": {},
     "output_type": "execute_result"
    }
   ],
   "source": [
    "Y_train[0].size"
   ]
  },
  {
   "cell_type": "code",
   "execution_count": 186,
   "id": "dedf62a0",
   "metadata": {},
   "outputs": [
    {
     "data": {
      "text/plain": [
       "9"
      ]
     },
     "execution_count": 186,
     "metadata": {},
     "output_type": "execute_result"
    }
   ],
   "source": [
    "Y_train.max()"
   ]
  },
  {
   "cell_type": "code",
   "execution_count": 187,
   "id": "652dbc4f",
   "metadata": {},
   "outputs": [
    {
     "data": {
      "text/plain": [
       "255"
      ]
     },
     "execution_count": 187,
     "metadata": {},
     "output_type": "execute_result"
    }
   ],
   "source": [
    "X_train.max()"
   ]
  },
  {
   "cell_type": "code",
   "execution_count": 188,
   "id": "d36a2a8f",
   "metadata": {},
   "outputs": [],
   "source": [
    "X_train=X_train/255"
   ]
  },
  {
   "cell_type": "code",
   "execution_count": 189,
   "id": "e95c43a7",
   "metadata": {},
   "outputs": [],
   "source": [
    "X_dev=X_dev/255"
   ]
  },
  {
   "cell_type": "code",
   "execution_count": 190,
   "id": "0a7e0be7",
   "metadata": {},
   "outputs": [
    {
     "data": {
      "text/plain": [
       "array([    0,     1,     2, ..., 39997, 39998, 39999])"
      ]
     },
     "execution_count": 190,
     "metadata": {},
     "output_type": "execute_result"
    }
   ],
   "source": [
    "np.arange(Y_train[0].size)"
   ]
  },
  {
   "cell_type": "code",
   "execution_count": 191,
   "id": "75cad053",
   "metadata": {},
   "outputs": [
    {
     "data": {
      "text/plain": [
       "array([[0., 0., 0., ..., 0., 0., 0.],\n",
       "       [0., 0., 0., ..., 0., 0., 0.],\n",
       "       [0., 0., 0., ..., 0., 0., 0.],\n",
       "       ...,\n",
       "       [0., 0., 0., ..., 0., 0., 0.],\n",
       "       [0., 0., 0., ..., 0., 0., 0.],\n",
       "       [0., 0., 0., ..., 0., 0., 0.]])"
      ]
     },
     "execution_count": 191,
     "metadata": {},
     "output_type": "execute_result"
    }
   ],
   "source": [
    "X_train"
   ]
  },
  {
   "cell_type": "code",
   "execution_count": 192,
   "id": "3c66529b",
   "metadata": {},
   "outputs": [
    {
     "data": {
      "text/plain": [
       "array([[5, 6, 3, ..., 3, 6, 6]], dtype=int64)"
      ]
     },
     "execution_count": 192,
     "metadata": {},
     "output_type": "execute_result"
    }
   ],
   "source": [
    "Y_train"
   ]
  },
  {
   "cell_type": "code",
   "execution_count": 193,
   "id": "d6f86649",
   "metadata": {},
   "outputs": [
    {
     "data": {
      "text/plain": [
       "array([[0., 0., 0., ..., 0., 0., 0.],\n",
       "       [0., 0., 0., ..., 0., 0., 0.],\n",
       "       [0., 0., 0., ..., 0., 0., 0.],\n",
       "       ...,\n",
       "       [0., 0., 0., ..., 0., 0., 0.],\n",
       "       [0., 0., 0., ..., 0., 0., 0.],\n",
       "       [0., 0., 0., ..., 0., 0., 0.]])"
      ]
     },
     "execution_count": 193,
     "metadata": {},
     "output_type": "execute_result"
    }
   ],
   "source": [
    "X_dev"
   ]
  },
  {
   "cell_type": "code",
   "execution_count": 194,
   "id": "b1103f6c",
   "metadata": {},
   "outputs": [
    {
     "data": {
      "text/plain": [
       "array([[1, 5, 1, ..., 7, 9, 9]], dtype=int64)"
      ]
     },
     "execution_count": 194,
     "metadata": {},
     "output_type": "execute_result"
    }
   ],
   "source": [
    "Y_dev"
   ]
  },
  {
   "cell_type": "markdown",
   "id": "03b4b288",
   "metadata": {},
   "source": [
    "### One hot encoding of the output"
   ]
  },
  {
   "cell_type": "code",
   "execution_count": 195,
   "id": "ca53df11",
   "metadata": {},
   "outputs": [],
   "source": [
    "def one_hot(Y):\n",
    "    temp_Y=np.zeros((10,Y.shape[1]))\n",
    "    temp_Y[Y[0],np.arange(Y.size)]=1\n",
    "    return temp_Y"
   ]
  },
  {
   "cell_type": "code",
   "execution_count": 196,
   "id": "d6971250",
   "metadata": {},
   "outputs": [],
   "source": [
    "#Y_train=one_hot(Y_train)"
   ]
  },
  {
   "cell_type": "code",
   "execution_count": 197,
   "id": "8c46a8c5",
   "metadata": {},
   "outputs": [
    {
     "data": {
      "text/plain": [
       "(1, 40000)"
      ]
     },
     "execution_count": 197,
     "metadata": {},
     "output_type": "execute_result"
    }
   ],
   "source": [
    "Y_train.shape"
   ]
  },
  {
   "cell_type": "code",
   "execution_count": 198,
   "id": "bf89b551",
   "metadata": {},
   "outputs": [
    {
     "data": {
      "text/plain": [
       "array([[5, 6, 3, ..., 3, 6, 6]], dtype=int64)"
      ]
     },
     "execution_count": 198,
     "metadata": {},
     "output_type": "execute_result"
    }
   ],
   "source": [
    "Y_train"
   ]
  },
  {
   "cell_type": "code",
   "execution_count": 199,
   "id": "e93fc5eb",
   "metadata": {},
   "outputs": [],
   "source": [
    "#Y_dev=one_hot(Y_dev)"
   ]
  },
  {
   "cell_type": "code",
   "execution_count": 200,
   "id": "fe5ec652",
   "metadata": {},
   "outputs": [
    {
     "data": {
      "text/plain": [
       "array([[1, 5, 1, ..., 7, 9, 9]], dtype=int64)"
      ]
     },
     "execution_count": 200,
     "metadata": {},
     "output_type": "execute_result"
    }
   ],
   "source": [
    "Y_dev"
   ]
  },
  {
   "cell_type": "code",
   "execution_count": 201,
   "id": "4d297b07",
   "metadata": {},
   "outputs": [
    {
     "data": {
      "text/plain": [
       "(1, 2000)"
      ]
     },
     "execution_count": 201,
     "metadata": {},
     "output_type": "execute_result"
    }
   ],
   "source": [
    "Y_dev.shape"
   ]
  },
  {
   "cell_type": "code",
   "execution_count": 202,
   "id": "6ec00835",
   "metadata": {},
   "outputs": [
    {
     "data": {
      "text/plain": [
       "(784, 40000)"
      ]
     },
     "execution_count": 202,
     "metadata": {},
     "output_type": "execute_result"
    }
   ],
   "source": [
    "X_train.shape"
   ]
  },
  {
   "cell_type": "markdown",
   "id": "f768cc33",
   "metadata": {},
   "source": [
    "The thought process is we will first build the needed helper functions to compute the subparts of the process and then merge them into one function . Once we have built and learned the right parameters, then we can make prediction on new data."
   ]
  },
  {
   "cell_type": "markdown",
   "id": "2caa06e6",
   "metadata": {},
   "source": [
    "### layer sizes , i.e no. of layers and their size"
   ]
  },
  {
   "cell_type": "code",
   "execution_count": 203,
   "id": "2da3e34f",
   "metadata": {},
   "outputs": [],
   "source": [
    "def layer_sizes(X,Y):\n",
    "    n_x=X.shape[0]\n",
    "    n_y=10\n",
    "    n_h=10\n",
    "    return n_x, n_h, n_y"
   ]
  },
  {
   "cell_type": "markdown",
   "id": "8a003aa0",
   "metadata": {},
   "source": [
    "### Initialize_parameters"
   ]
  },
  {
   "cell_type": "code",
   "execution_count": 204,
   "id": "16b9f412",
   "metadata": {},
   "outputs": [],
   "source": [
    "def initialize_parameters(n_x,n_h,n_y):\n",
    "    W1=np.random.randn(n_h,n_x)*0.01\n",
    "    W2=np.random.randn(n_y,n_h)*0.01\n",
    "    b1=np.zeros((n_h,1))\n",
    "    b2=np.zeros((n_y,1))\n",
    "#     W1 = np.random.rand(10, 784) - 0.5\n",
    "#     b1 = np.random.rand(10, 1) - 0.5\n",
    "#     W2 = np.random.rand(10, 10) - 0.5\n",
    "#     b2 = np.random.rand(10, 1) - 0.5\n",
    "#     parameters={\n",
    "#         \"W1\":W1,\n",
    "#         \"W2\":W2,\n",
    "#         \"b1\":b1,\n",
    "#         \"b2\":b2\n",
    "#     }\n",
    "    return W1, b1, W2, b2"
   ]
  },
  {
   "cell_type": "markdown",
   "id": "67e12479",
   "metadata": {},
   "source": [
    "### Defining activation function for the two layers"
   ]
  },
  {
   "cell_type": "code",
   "execution_count": 205,
   "id": "11ec6b6d",
   "metadata": {},
   "outputs": [],
   "source": [
    "def relu(z):\n",
    "    return np.maximum(z,0)"
   ]
  },
  {
   "cell_type": "code",
   "execution_count": 206,
   "id": "2b186572",
   "metadata": {},
   "outputs": [],
   "source": [
    "def softmax(Z):\n",
    "    return np.exp(Z)/sum(np.exp(Z))"
   ]
  },
  {
   "cell_type": "markdown",
   "id": "9e622c35",
   "metadata": {},
   "source": [
    "### Defining derivative of the activation function"
   ]
  },
  {
   "cell_type": "code",
   "execution_count": 207,
   "id": "ceb29b98",
   "metadata": {},
   "outputs": [],
   "source": [
    "def der_relu(Z):\n",
    "    return Z>0"
   ]
  },
  {
   "cell_type": "markdown",
   "id": "9bcb0873",
   "metadata": {},
   "source": [
    "### Defining Forward propagation"
   ]
  },
  {
   "cell_type": "code",
   "execution_count": 208,
   "id": "0efb751d",
   "metadata": {},
   "outputs": [],
   "source": [
    "def forward_propagation(X,W1,b1,W2,b2):\n",
    "    Z1=np.dot(W1,X)+b1\n",
    "    A1=relu(Z1)\n",
    "    Z2=np.dot(W2,A1)+b2\n",
    "    A2=softmax(Z2)\n",
    "    return Z1,A1,Z2,A2"
   ]
  },
  {
   "cell_type": "markdown",
   "id": "ab8740af",
   "metadata": {},
   "source": [
    "### Computing the cost "
   ]
  },
  {
   "cell_type": "code",
   "execution_count": 209,
   "id": "75967cd7",
   "metadata": {},
   "outputs": [],
   "source": [
    "def compute_cost(A2,Y):\n",
    "    m=Y.shape[1]\n",
    "    l=(Y*np.log(A2))+((1-Y)*np.log(1-A2))\n",
    "    cost=(-1/m)*np.sum(l)\n",
    "    cost=float(np.squeeze(cost))\n",
    "    return cost"
   ]
  },
  {
   "cell_type": "markdown",
   "id": "aa49420a",
   "metadata": {},
   "source": [
    "### Defining backward propagation "
   ]
  },
  {
   "cell_type": "code",
   "execution_count": 210,
   "id": "94710445",
   "metadata": {},
   "outputs": [],
   "source": [
    "def backward_propagation(Z1,A1,Z2,A2,W1,W2,X,Y):\n",
    "    m=Y.size\n",
    "    one_hot_Y=one_hot(Y)\n",
    "    dZ2=A2-Y\n",
    "    dW2=(1/m)*np.dot(dZ2,A1.T)\n",
    "    db2=(1/m)*np.sum(dZ2,axis=1,keepdims=True)\n",
    "    dZ1=(np.dot(dW2.T,dZ2))*(der_relu(Z1))\n",
    "    dW1=(1/m)*np.dot(dZ1,X.T)\n",
    "    db1=(1/m)*np.sum(dZ1,axis=1,keepdims=True)\n",
    "#     grad={\n",
    "#         \"dW2\":dW2,\n",
    "#         \"db2\":db2,\n",
    "#         \"dW1\":dW1,\n",
    "#         \"db1\":db1\n",
    "#     }\n",
    "#     caches={\n",
    "#     'cache':cache,\n",
    "#     'parameters':parameters,\n",
    "#     'cng_prm':cng_prm\n",
    "#     }\n",
    "    return dW2,db2,dW1,db1"
   ]
  },
  {
   "cell_type": "markdown",
   "id": "7395cf51",
   "metadata": {},
   "source": [
    "## Defining update parameters function"
   ]
  },
  {
   "cell_type": "code",
   "execution_count": 211,
   "id": "e0de3fb0",
   "metadata": {},
   "outputs": [],
   "source": [
    "def update_params(W1, b1, W2, b2, dW1, db1, dW2, db2, alpha):\n",
    "    W1 = W1 - alpha * dW1\n",
    "    b1 = b1 - alpha * db1    \n",
    "    W2 = W2 - alpha * dW2  \n",
    "    b2 = b2 - alpha * db2    \n",
    "    return W1, b1, W2, b2"
   ]
  },
  {
   "cell_type": "markdown",
   "id": "c8394a7a",
   "metadata": {},
   "source": [
    "## Functions for finding accuracy"
   ]
  },
  {
   "cell_type": "code",
   "execution_count": 212,
   "id": "05e5c9ea",
   "metadata": {},
   "outputs": [],
   "source": [
    "def get_prediction(A2):\n",
    "    return np.argmax(A2,0)"
   ]
  },
  {
   "cell_type": "code",
   "execution_count": 222,
   "id": "005beb7d",
   "metadata": {},
   "outputs": [],
   "source": [
    "def get_accuracy(AL,Y):\n",
    "    #print(prediction,Y)\n",
    "    return np.sum(np.argmax(AL,0)==np.argmax(Y,0))/Y.shape[1]"
   ]
  },
  {
   "cell_type": "code",
   "execution_count": 221,
   "id": "dd3603ad",
   "metadata": {},
   "outputs": [
    {
     "data": {
      "text/plain": [
       "(1, 40000)"
      ]
     },
     "execution_count": 221,
     "metadata": {},
     "output_type": "execute_result"
    }
   ],
   "source": [
    "Y_train.shape"
   ]
  },
  {
   "cell_type": "markdown",
   "id": "a9ae01a6",
   "metadata": {},
   "source": [
    "## Creating the model"
   ]
  },
  {
   "cell_type": "code",
   "execution_count": 218,
   "id": "ab3d1b1d",
   "metadata": {},
   "outputs": [],
   "source": [
    "def nn_model(X,Y,iterations,alpha):\n",
    "    n_x, n_h, n_y=layer_sizes(X,Y)\n",
    "    #one_hot_Y=one_hot(Y)\n",
    "    W1, b1, W2, b2=initialize_parameters(n_x,n_h,n_y)\n",
    "    for i in range(iterations):\n",
    "        Z1,A1,Z2,A2=forward_propagation(X,W1, b1, W2, b2)\n",
    "        #cost=compute_cost(A2,one_hot_Y)\n",
    "        dW2,db2,dW1,db1=backward_propagation(Z1,A1,Z2,A2,W1,W2,X,Y)\n",
    "        W1, b1, W2, b2=update_params(W1, b1, W2, b2,dW1,db1,dW2,db2,alpha)\n",
    "        if(i%10 == 0):\n",
    "            print(\"Iteration: \", i)\n",
    "            print(get_accuracy(A2,Y)) \n",
    "            #print(cost)\n",
    "    return W1, b1, W2, b2"
   ]
  },
  {
   "cell_type": "code",
   "execution_count": 223,
   "id": "53fba4c9",
   "metadata": {},
   "outputs": [
    {
     "name": "stdout",
     "output_type": "stream",
     "text": [
      "Iteration:  0\n",
      "0.222975\n",
      "Iteration:  10\n",
      "0.0\n",
      "Iteration:  20\n",
      "0.0\n",
      "Iteration:  30\n",
      "0.0\n",
      "Iteration:  40\n",
      "0.0\n",
      "Iteration:  50\n",
      "0.0\n",
      "Iteration:  60\n",
      "0.0\n",
      "Iteration:  70\n",
      "0.0\n",
      "Iteration:  80\n",
      "0.0\n",
      "Iteration:  90\n",
      "0.0\n",
      "Iteration:  100\n",
      "0.0\n",
      "Iteration:  110\n",
      "0.0\n",
      "Iteration:  120\n",
      "0.0\n",
      "Iteration:  130\n",
      "0.0\n",
      "Iteration:  140\n",
      "0.0\n",
      "Iteration:  150\n",
      "0.0\n",
      "Iteration:  160\n",
      "0.0\n",
      "Iteration:  170\n",
      "0.0\n",
      "Iteration:  180\n",
      "0.0\n",
      "Iteration:  190\n",
      "0.0\n",
      "Iteration:  200\n",
      "0.0\n",
      "Iteration:  210\n",
      "0.0\n",
      "Iteration:  220\n",
      "0.0\n",
      "Iteration:  230\n",
      "0.0\n",
      "Iteration:  240\n",
      "0.0\n",
      "Iteration:  250\n",
      "0.0\n",
      "Iteration:  260\n",
      "0.0\n",
      "Iteration:  270\n",
      "0.0\n",
      "Iteration:  280\n",
      "0.0\n",
      "Iteration:  290\n",
      "0.0\n",
      "Iteration:  300\n",
      "0.0\n",
      "Iteration:  310\n",
      "0.0\n",
      "Iteration:  320\n",
      "0.0\n",
      "Iteration:  330\n",
      "0.0\n",
      "Iteration:  340\n",
      "0.0\n",
      "Iteration:  350\n",
      "0.0\n",
      "Iteration:  360\n",
      "0.0\n",
      "Iteration:  370\n",
      "0.0\n",
      "Iteration:  380\n",
      "0.0\n",
      "Iteration:  390\n",
      "0.0\n",
      "Iteration:  400\n",
      "0.0\n",
      "Iteration:  410\n",
      "0.0\n",
      "Iteration:  420\n",
      "0.0\n",
      "Iteration:  430\n",
      "0.0\n",
      "Iteration:  440\n",
      "0.0\n",
      "Iteration:  450\n",
      "0.0\n",
      "Iteration:  460\n",
      "0.0\n",
      "Iteration:  470\n",
      "0.0\n",
      "Iteration:  480\n",
      "0.0\n",
      "Iteration:  490\n",
      "0.0\n"
     ]
    }
   ],
   "source": [
    "W1, b1, W2, b2=nn_model(X_train, Y_train, 500 , 0.10)"
   ]
  },
  {
   "cell_type": "code",
   "execution_count": 80,
   "id": "61cd9911",
   "metadata": {},
   "outputs": [],
   "source": [
    "temp=one_hot(Y_train)"
   ]
  },
  {
   "cell_type": "code",
   "execution_count": 81,
   "id": "0abf9647",
   "metadata": {},
   "outputs": [
    {
     "data": {
      "text/plain": [
       "array([[0., 0., 0., ..., 0., 0., 0.],\n",
       "       [0., 0., 0., ..., 1., 0., 0.],\n",
       "       [1., 0., 1., ..., 0., 0., 0.],\n",
       "       ...,\n",
       "       [0., 0., 0., ..., 0., 0., 0.],\n",
       "       [0., 0., 0., ..., 0., 0., 0.],\n",
       "       [0., 0., 0., ..., 0., 0., 1.]])"
      ]
     },
     "execution_count": 81,
     "metadata": {},
     "output_type": "execute_result"
    }
   ],
   "source": [
    "temp"
   ]
  },
  {
   "cell_type": "code",
   "execution_count": 82,
   "id": "bbf45653",
   "metadata": {},
   "outputs": [
    {
     "data": {
      "text/plain": [
       "(10, 40000)"
      ]
     },
     "execution_count": 82,
     "metadata": {},
     "output_type": "execute_result"
    }
   ],
   "source": [
    "temp.shape"
   ]
  },
  {
   "cell_type": "code",
   "execution_count": 83,
   "id": "d4bf25d9",
   "metadata": {},
   "outputs": [
    {
     "data": {
      "text/plain": [
       "400000"
      ]
     },
     "execution_count": 83,
     "metadata": {},
     "output_type": "execute_result"
    }
   ],
   "source": [
    "temp.size"
   ]
  },
  {
   "cell_type": "code",
   "execution_count": 87,
   "id": "16586da8",
   "metadata": {},
   "outputs": [],
   "source": [
    "let=np.random.randn(10,784)*0.01"
   ]
  },
  {
   "cell_type": "code",
   "execution_count": 89,
   "id": "2925888a",
   "metadata": {},
   "outputs": [
    {
     "data": {
      "text/plain": [
       "9.407560036876248"
      ]
     },
     "execution_count": 89,
     "metadata": {},
     "output_type": "execute_result"
    }
   ],
   "source": [
    "np.sum(param['W1']-let)"
   ]
  },
  {
   "cell_type": "code",
   "execution_count": null,
   "id": "2e36a85d",
   "metadata": {},
   "outputs": [],
   "source": []
  }
 ],
 "metadata": {
  "kernelspec": {
   "display_name": "Python 3 (ipykernel)",
   "language": "python",
   "name": "python3"
  },
  "language_info": {
   "codemirror_mode": {
    "name": "ipython",
    "version": 3
   },
   "file_extension": ".py",
   "mimetype": "text/x-python",
   "name": "python",
   "nbconvert_exporter": "python",
   "pygments_lexer": "ipython3",
   "version": "3.9.0"
  }
 },
 "nbformat": 4,
 "nbformat_minor": 5
}
