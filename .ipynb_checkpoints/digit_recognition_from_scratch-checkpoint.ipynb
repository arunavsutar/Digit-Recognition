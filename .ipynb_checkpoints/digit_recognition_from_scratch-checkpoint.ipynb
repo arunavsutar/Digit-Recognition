{
 "cells": [
  {
   "cell_type": "markdown",
   "id": "11a0b0f0",
   "metadata": {},
   "source": [
    "### Importing packages"
   ]
  },
  {
   "cell_type": "code",
   "execution_count": 1,
   "id": "a3db1b7b",
   "metadata": {},
   "outputs": [],
   "source": [
    "import numpy as np\n",
    "import pandas as pd\n",
    "import matplotlib.pyplot as plt\n",
    "from PIL import Image"
   ]
  },
  {
   "cell_type": "markdown",
   "id": "7b725967",
   "metadata": {},
   "source": [
    "### Importing dataset and making it into the correct format"
   ]
  },
  {
   "cell_type": "code",
   "execution_count": 2,
   "id": "a35a3a12",
   "metadata": {},
   "outputs": [],
   "source": [
    "train=pd.read_csv(\"train.csv\")"
   ]
  },
  {
   "cell_type": "code",
   "execution_count": 3,
   "id": "ad660bd9",
   "metadata": {},
   "outputs": [
    {
     "data": {
      "text/html": [
       "<div>\n",
       "<style scoped>\n",
       "    .dataframe tbody tr th:only-of-type {\n",
       "        vertical-align: middle;\n",
       "    }\n",
       "\n",
       "    .dataframe tbody tr th {\n",
       "        vertical-align: top;\n",
       "    }\n",
       "\n",
       "    .dataframe thead th {\n",
       "        text-align: right;\n",
       "    }\n",
       "</style>\n",
       "<table border=\"1\" class=\"dataframe\">\n",
       "  <thead>\n",
       "    <tr style=\"text-align: right;\">\n",
       "      <th></th>\n",
       "      <th>label</th>\n",
       "      <th>pixel0</th>\n",
       "      <th>pixel1</th>\n",
       "      <th>pixel2</th>\n",
       "      <th>pixel3</th>\n",
       "      <th>pixel4</th>\n",
       "      <th>pixel5</th>\n",
       "      <th>pixel6</th>\n",
       "      <th>pixel7</th>\n",
       "      <th>pixel8</th>\n",
       "      <th>...</th>\n",
       "      <th>pixel774</th>\n",
       "      <th>pixel775</th>\n",
       "      <th>pixel776</th>\n",
       "      <th>pixel777</th>\n",
       "      <th>pixel778</th>\n",
       "      <th>pixel779</th>\n",
       "      <th>pixel780</th>\n",
       "      <th>pixel781</th>\n",
       "      <th>pixel782</th>\n",
       "      <th>pixel783</th>\n",
       "    </tr>\n",
       "  </thead>\n",
       "  <tbody>\n",
       "    <tr>\n",
       "      <th>0</th>\n",
       "      <td>1</td>\n",
       "      <td>0</td>\n",
       "      <td>0</td>\n",
       "      <td>0</td>\n",
       "      <td>0</td>\n",
       "      <td>0</td>\n",
       "      <td>0</td>\n",
       "      <td>0</td>\n",
       "      <td>0</td>\n",
       "      <td>0</td>\n",
       "      <td>...</td>\n",
       "      <td>0</td>\n",
       "      <td>0</td>\n",
       "      <td>0</td>\n",
       "      <td>0</td>\n",
       "      <td>0</td>\n",
       "      <td>0</td>\n",
       "      <td>0</td>\n",
       "      <td>0</td>\n",
       "      <td>0</td>\n",
       "      <td>0</td>\n",
       "    </tr>\n",
       "    <tr>\n",
       "      <th>1</th>\n",
       "      <td>0</td>\n",
       "      <td>0</td>\n",
       "      <td>0</td>\n",
       "      <td>0</td>\n",
       "      <td>0</td>\n",
       "      <td>0</td>\n",
       "      <td>0</td>\n",
       "      <td>0</td>\n",
       "      <td>0</td>\n",
       "      <td>0</td>\n",
       "      <td>...</td>\n",
       "      <td>0</td>\n",
       "      <td>0</td>\n",
       "      <td>0</td>\n",
       "      <td>0</td>\n",
       "      <td>0</td>\n",
       "      <td>0</td>\n",
       "      <td>0</td>\n",
       "      <td>0</td>\n",
       "      <td>0</td>\n",
       "      <td>0</td>\n",
       "    </tr>\n",
       "    <tr>\n",
       "      <th>2</th>\n",
       "      <td>1</td>\n",
       "      <td>0</td>\n",
       "      <td>0</td>\n",
       "      <td>0</td>\n",
       "      <td>0</td>\n",
       "      <td>0</td>\n",
       "      <td>0</td>\n",
       "      <td>0</td>\n",
       "      <td>0</td>\n",
       "      <td>0</td>\n",
       "      <td>...</td>\n",
       "      <td>0</td>\n",
       "      <td>0</td>\n",
       "      <td>0</td>\n",
       "      <td>0</td>\n",
       "      <td>0</td>\n",
       "      <td>0</td>\n",
       "      <td>0</td>\n",
       "      <td>0</td>\n",
       "      <td>0</td>\n",
       "      <td>0</td>\n",
       "    </tr>\n",
       "    <tr>\n",
       "      <th>3</th>\n",
       "      <td>4</td>\n",
       "      <td>0</td>\n",
       "      <td>0</td>\n",
       "      <td>0</td>\n",
       "      <td>0</td>\n",
       "      <td>0</td>\n",
       "      <td>0</td>\n",
       "      <td>0</td>\n",
       "      <td>0</td>\n",
       "      <td>0</td>\n",
       "      <td>...</td>\n",
       "      <td>0</td>\n",
       "      <td>0</td>\n",
       "      <td>0</td>\n",
       "      <td>0</td>\n",
       "      <td>0</td>\n",
       "      <td>0</td>\n",
       "      <td>0</td>\n",
       "      <td>0</td>\n",
       "      <td>0</td>\n",
       "      <td>0</td>\n",
       "    </tr>\n",
       "    <tr>\n",
       "      <th>4</th>\n",
       "      <td>0</td>\n",
       "      <td>0</td>\n",
       "      <td>0</td>\n",
       "      <td>0</td>\n",
       "      <td>0</td>\n",
       "      <td>0</td>\n",
       "      <td>0</td>\n",
       "      <td>0</td>\n",
       "      <td>0</td>\n",
       "      <td>0</td>\n",
       "      <td>...</td>\n",
       "      <td>0</td>\n",
       "      <td>0</td>\n",
       "      <td>0</td>\n",
       "      <td>0</td>\n",
       "      <td>0</td>\n",
       "      <td>0</td>\n",
       "      <td>0</td>\n",
       "      <td>0</td>\n",
       "      <td>0</td>\n",
       "      <td>0</td>\n",
       "    </tr>\n",
       "  </tbody>\n",
       "</table>\n",
       "<p>5 rows × 785 columns</p>\n",
       "</div>"
      ],
      "text/plain": [
       "   label  pixel0  pixel1  pixel2  pixel3  pixel4  pixel5  pixel6  pixel7  \\\n",
       "0      1       0       0       0       0       0       0       0       0   \n",
       "1      0       0       0       0       0       0       0       0       0   \n",
       "2      1       0       0       0       0       0       0       0       0   \n",
       "3      4       0       0       0       0       0       0       0       0   \n",
       "4      0       0       0       0       0       0       0       0       0   \n",
       "\n",
       "   pixel8  ...  pixel774  pixel775  pixel776  pixel777  pixel778  pixel779  \\\n",
       "0       0  ...         0         0         0         0         0         0   \n",
       "1       0  ...         0         0         0         0         0         0   \n",
       "2       0  ...         0         0         0         0         0         0   \n",
       "3       0  ...         0         0         0         0         0         0   \n",
       "4       0  ...         0         0         0         0         0         0   \n",
       "\n",
       "   pixel780  pixel781  pixel782  pixel783  \n",
       "0         0         0         0         0  \n",
       "1         0         0         0         0  \n",
       "2         0         0         0         0  \n",
       "3         0         0         0         0  \n",
       "4         0         0         0         0  \n",
       "\n",
       "[5 rows x 785 columns]"
      ]
     },
     "execution_count": 3,
     "metadata": {},
     "output_type": "execute_result"
    }
   ],
   "source": [
    "train.head()"
   ]
  },
  {
   "cell_type": "code",
   "execution_count": 4,
   "id": "d63da7ac",
   "metadata": {},
   "outputs": [],
   "source": [
    "data=np.array(train)"
   ]
  },
  {
   "cell_type": "code",
   "execution_count": 5,
   "id": "b995b0ef",
   "metadata": {},
   "outputs": [
    {
     "data": {
      "text/plain": [
       "numpy.ndarray"
      ]
     },
     "execution_count": 5,
     "metadata": {},
     "output_type": "execute_result"
    }
   ],
   "source": [
    "type(data)"
   ]
  },
  {
   "cell_type": "code",
   "execution_count": 6,
   "id": "4dd3d7fe",
   "metadata": {},
   "outputs": [],
   "source": [
    "m,n=data.shape"
   ]
  },
  {
   "cell_type": "code",
   "execution_count": 7,
   "id": "319962df",
   "metadata": {},
   "outputs": [
    {
     "data": {
      "text/plain": [
       "(42000, 785)"
      ]
     },
     "execution_count": 7,
     "metadata": {},
     "output_type": "execute_result"
    }
   ],
   "source": [
    "data.shape"
   ]
  },
  {
   "cell_type": "code",
   "execution_count": 8,
   "id": "8a7c3af7",
   "metadata": {},
   "outputs": [],
   "source": [
    "np.random.shuffle(data)"
   ]
  },
  {
   "cell_type": "code",
   "execution_count": 9,
   "id": "8575fc41",
   "metadata": {},
   "outputs": [],
   "source": [
    "data_dev=data[0:2000].T"
   ]
  },
  {
   "cell_type": "code",
   "execution_count": 10,
   "id": "af11a9e0",
   "metadata": {},
   "outputs": [
    {
     "data": {
      "text/plain": [
       "(785, 2000)"
      ]
     },
     "execution_count": 10,
     "metadata": {},
     "output_type": "execute_result"
    }
   ],
   "source": [
    "data_dev.shape"
   ]
  },
  {
   "cell_type": "code",
   "execution_count": 11,
   "id": "2e232657",
   "metadata": {},
   "outputs": [],
   "source": [
    "Y_dev=data_dev[0]\n",
    "X_dev=data_dev[1:n]"
   ]
  },
  {
   "cell_type": "code",
   "execution_count": 12,
   "id": "8cee22d9",
   "metadata": {},
   "outputs": [
    {
     "data": {
      "text/plain": [
       "array([8, 4, 6, ..., 7, 3, 4], dtype=int64)"
      ]
     },
     "execution_count": 12,
     "metadata": {},
     "output_type": "execute_result"
    }
   ],
   "source": [
    "Y_dev"
   ]
  },
  {
   "cell_type": "code",
   "execution_count": 13,
   "id": "51920d43",
   "metadata": {},
   "outputs": [],
   "source": [
    "Y_dev=Y_dev.reshape(1,2000)"
   ]
  },
  {
   "cell_type": "code",
   "execution_count": 14,
   "id": "097fe6b7",
   "metadata": {},
   "outputs": [
    {
     "data": {
      "text/plain": [
       "array([[8, 4, 6, ..., 7, 3, 4]], dtype=int64)"
      ]
     },
     "execution_count": 14,
     "metadata": {},
     "output_type": "execute_result"
    }
   ],
   "source": [
    "Y_dev"
   ]
  },
  {
   "cell_type": "code",
   "execution_count": 15,
   "id": "3140feb4",
   "metadata": {},
   "outputs": [
    {
     "data": {
      "text/plain": [
       "(784, 2000)"
      ]
     },
     "execution_count": 15,
     "metadata": {},
     "output_type": "execute_result"
    }
   ],
   "source": [
    "X_dev.shape"
   ]
  },
  {
   "cell_type": "code",
   "execution_count": 16,
   "id": "8c9e686b",
   "metadata": {},
   "outputs": [
    {
     "data": {
      "text/plain": [
       "785"
      ]
     },
     "execution_count": 16,
     "metadata": {},
     "output_type": "execute_result"
    }
   ],
   "source": [
    "n"
   ]
  },
  {
   "cell_type": "code",
   "execution_count": 17,
   "id": "fdb981c2",
   "metadata": {},
   "outputs": [],
   "source": [
    "data_train=data[2000:m].T"
   ]
  },
  {
   "cell_type": "code",
   "execution_count": 18,
   "id": "0b18e0bf",
   "metadata": {},
   "outputs": [
    {
     "data": {
      "text/plain": [
       "(785, 40000)"
      ]
     },
     "execution_count": 18,
     "metadata": {},
     "output_type": "execute_result"
    }
   ],
   "source": [
    "data_train.shape"
   ]
  },
  {
   "cell_type": "code",
   "execution_count": 19,
   "id": "9b5ffd18",
   "metadata": {},
   "outputs": [],
   "source": [
    "Y_train=data_train[0].reshape(1,40000)"
   ]
  },
  {
   "cell_type": "code",
   "execution_count": 20,
   "id": "8668dc7c",
   "metadata": {},
   "outputs": [],
   "source": [
    "X_train=data_train[1:n]"
   ]
  },
  {
   "cell_type": "code",
   "execution_count": 21,
   "id": "8d94471e",
   "metadata": {},
   "outputs": [
    {
     "data": {
      "text/plain": [
       "(784, 40000)"
      ]
     },
     "execution_count": 21,
     "metadata": {},
     "output_type": "execute_result"
    }
   ],
   "source": [
    "X_train.shape"
   ]
  },
  {
   "cell_type": "code",
   "execution_count": 22,
   "id": "c6b4c0e2",
   "metadata": {},
   "outputs": [
    {
     "data": {
      "text/plain": [
       "(1, 40000)"
      ]
     },
     "execution_count": 22,
     "metadata": {},
     "output_type": "execute_result"
    }
   ],
   "source": [
    "Y_train.shape"
   ]
  },
  {
   "cell_type": "code",
   "execution_count": 23,
   "id": "65759c63",
   "metadata": {},
   "outputs": [
    {
     "data": {
      "text/plain": [
       "40000"
      ]
     },
     "execution_count": 23,
     "metadata": {},
     "output_type": "execute_result"
    }
   ],
   "source": [
    "Y_train[0].size"
   ]
  },
  {
   "cell_type": "code",
   "execution_count": 24,
   "id": "dedf62a0",
   "metadata": {},
   "outputs": [
    {
     "data": {
      "text/plain": [
       "9"
      ]
     },
     "execution_count": 24,
     "metadata": {},
     "output_type": "execute_result"
    }
   ],
   "source": [
    "Y_train.max()"
   ]
  },
  {
   "cell_type": "code",
   "execution_count": 25,
   "id": "652dbc4f",
   "metadata": {},
   "outputs": [
    {
     "data": {
      "text/plain": [
       "255"
      ]
     },
     "execution_count": 25,
     "metadata": {},
     "output_type": "execute_result"
    }
   ],
   "source": [
    "X_train.max()"
   ]
  },
  {
   "cell_type": "code",
   "execution_count": 26,
   "id": "d36a2a8f",
   "metadata": {},
   "outputs": [],
   "source": [
    "X_train=X_train/255"
   ]
  },
  {
   "cell_type": "code",
   "execution_count": 27,
   "id": "e95c43a7",
   "metadata": {},
   "outputs": [],
   "source": [
    "X_dev=X_dev/255"
   ]
  },
  {
   "cell_type": "code",
   "execution_count": 28,
   "id": "0a7e0be7",
   "metadata": {},
   "outputs": [
    {
     "data": {
      "text/plain": [
       "array([    0,     1,     2, ..., 39997, 39998, 39999])"
      ]
     },
     "execution_count": 28,
     "metadata": {},
     "output_type": "execute_result"
    }
   ],
   "source": [
    "np.arange(Y_train[0].size)"
   ]
  },
  {
   "cell_type": "code",
   "execution_count": 29,
   "id": "75cad053",
   "metadata": {},
   "outputs": [
    {
     "data": {
      "text/plain": [
       "array([[0., 0., 0., ..., 0., 0., 0.],\n",
       "       [0., 0., 0., ..., 0., 0., 0.],\n",
       "       [0., 0., 0., ..., 0., 0., 0.],\n",
       "       ...,\n",
       "       [0., 0., 0., ..., 0., 0., 0.],\n",
       "       [0., 0., 0., ..., 0., 0., 0.],\n",
       "       [0., 0., 0., ..., 0., 0., 0.]])"
      ]
     },
     "execution_count": 29,
     "metadata": {},
     "output_type": "execute_result"
    }
   ],
   "source": [
    "X_train"
   ]
  },
  {
   "cell_type": "code",
   "execution_count": 30,
   "id": "3c66529b",
   "metadata": {},
   "outputs": [
    {
     "data": {
      "text/plain": [
       "array([[2, 6, 2, ..., 1, 5, 9]], dtype=int64)"
      ]
     },
     "execution_count": 30,
     "metadata": {},
     "output_type": "execute_result"
    }
   ],
   "source": [
    "Y_train"
   ]
  },
  {
   "cell_type": "code",
   "execution_count": 31,
   "id": "d6f86649",
   "metadata": {},
   "outputs": [
    {
     "data": {
      "text/plain": [
       "array([[0., 0., 0., ..., 0., 0., 0.],\n",
       "       [0., 0., 0., ..., 0., 0., 0.],\n",
       "       [0., 0., 0., ..., 0., 0., 0.],\n",
       "       ...,\n",
       "       [0., 0., 0., ..., 0., 0., 0.],\n",
       "       [0., 0., 0., ..., 0., 0., 0.],\n",
       "       [0., 0., 0., ..., 0., 0., 0.]])"
      ]
     },
     "execution_count": 31,
     "metadata": {},
     "output_type": "execute_result"
    }
   ],
   "source": [
    "X_dev"
   ]
  },
  {
   "cell_type": "code",
   "execution_count": 32,
   "id": "b1103f6c",
   "metadata": {},
   "outputs": [
    {
     "data": {
      "text/plain": [
       "array([[8, 4, 6, ..., 7, 3, 4]], dtype=int64)"
      ]
     },
     "execution_count": 32,
     "metadata": {},
     "output_type": "execute_result"
    }
   ],
   "source": [
    "Y_dev"
   ]
  },
  {
   "cell_type": "markdown",
   "id": "03b4b288",
   "metadata": {},
   "source": [
    "### One hot encoding of the output"
   ]
  },
  {
   "cell_type": "code",
   "execution_count": 33,
   "id": "ca53df11",
   "metadata": {},
   "outputs": [],
   "source": [
    "def one_hot(Y):\n",
    "    temp_Y=np.zeros((10,Y.shape[1]))\n",
    "    temp_Y[Y[0],np.arange(Y.size)]=1\n",
    "    return temp_Y"
   ]
  },
  {
   "cell_type": "code",
   "execution_count": 79,
   "id": "d6971250",
   "metadata": {},
   "outputs": [],
   "source": [
    "#Y_train=one_hot(Y_train)"
   ]
  },
  {
   "cell_type": "code",
   "execution_count": 34,
   "id": "8c46a8c5",
   "metadata": {},
   "outputs": [
    {
     "data": {
      "text/plain": [
       "(1, 40000)"
      ]
     },
     "execution_count": 34,
     "metadata": {},
     "output_type": "execute_result"
    }
   ],
   "source": [
    "Y_train.shape"
   ]
  },
  {
   "cell_type": "code",
   "execution_count": 35,
   "id": "bf89b551",
   "metadata": {},
   "outputs": [
    {
     "data": {
      "text/plain": [
       "array([[2, 6, 2, ..., 1, 5, 9]], dtype=int64)"
      ]
     },
     "execution_count": 35,
     "metadata": {},
     "output_type": "execute_result"
    }
   ],
   "source": [
    "Y_train"
   ]
  },
  {
   "cell_type": "code",
   "execution_count": 82,
   "id": "e93fc5eb",
   "metadata": {},
   "outputs": [],
   "source": [
    "#Y_dev=one_hot(Y_dev)"
   ]
  },
  {
   "cell_type": "code",
   "execution_count": 36,
   "id": "fe5ec652",
   "metadata": {},
   "outputs": [
    {
     "data": {
      "text/plain": [
       "array([[8, 4, 6, ..., 7, 3, 4]], dtype=int64)"
      ]
     },
     "execution_count": 36,
     "metadata": {},
     "output_type": "execute_result"
    }
   ],
   "source": [
    "Y_dev"
   ]
  },
  {
   "cell_type": "code",
   "execution_count": 37,
   "id": "4d297b07",
   "metadata": {},
   "outputs": [
    {
     "data": {
      "text/plain": [
       "(1, 2000)"
      ]
     },
     "execution_count": 37,
     "metadata": {},
     "output_type": "execute_result"
    }
   ],
   "source": [
    "Y_dev.shape"
   ]
  },
  {
   "cell_type": "code",
   "execution_count": 38,
   "id": "6ec00835",
   "metadata": {},
   "outputs": [
    {
     "data": {
      "text/plain": [
       "(784, 40000)"
      ]
     },
     "execution_count": 38,
     "metadata": {},
     "output_type": "execute_result"
    }
   ],
   "source": [
    "X_train.shape"
   ]
  },
  {
   "cell_type": "markdown",
   "id": "f768cc33",
   "metadata": {},
   "source": [
    "The thought process is we will first build the needed helper functions to compute the subparts of the process and then merge them into one function . Once we have built and learned the right parameters, then we can make prediction on new data."
   ]
  },
  {
   "cell_type": "markdown",
   "id": "2caa06e6",
   "metadata": {},
   "source": [
    "### layer sizes , i.e no. of layers and their size"
   ]
  },
  {
   "cell_type": "code",
   "execution_count": 39,
   "id": "2da3e34f",
   "metadata": {},
   "outputs": [],
   "source": [
    "def layer_sizes(X,Y):\n",
    "    n_x=X.shape[0]\n",
    "    n_y=10\n",
    "    n_h=10\n",
    "    return n_x, n_h, n_y"
   ]
  },
  {
   "cell_type": "markdown",
   "id": "8a003aa0",
   "metadata": {},
   "source": [
    "### Initialize_parameters"
   ]
  },
  {
   "cell_type": "code",
   "execution_count": 85,
   "id": "16b9f412",
   "metadata": {},
   "outputs": [],
   "source": [
    "def initialize_parameters(n_x,n_h,n_y):\n",
    "    W1=np.random.randn(n_h,n_x)*0.01\n",
    "    W2=np.random.randn(n_y,n_h)*0.01\n",
    "    b1=np.zeros((n_h,1))\n",
    "    b2=np.zeros((n_y,1))\n",
    "#     W1 = np.random.rand(10, 784) - 0.5\n",
    "#     b1 = np.random.rand(10, 1) - 0.5\n",
    "#     W2 = np.random.rand(10, 10) - 0.5\n",
    "#     b2 = np.random.rand(10, 1) - 0.5\n",
    "    parameters={\n",
    "        \"W1\":W1,\n",
    "        \"W2\":W2,\n",
    "        \"b1\":b1,\n",
    "        \"b2\":b2\n",
    "    }\n",
    "    return parameters"
   ]
  },
  {
   "cell_type": "markdown",
   "id": "67e12479",
   "metadata": {},
   "source": [
    "### Defining activation function for the two layers"
   ]
  },
  {
   "cell_type": "code",
   "execution_count": 52,
   "id": "11ec6b6d",
   "metadata": {},
   "outputs": [],
   "source": [
    "def relu(z):\n",
    "    return np.maximum(z,0)"
   ]
  },
  {
   "cell_type": "code",
   "execution_count": 54,
   "id": "2b186572",
   "metadata": {},
   "outputs": [],
   "source": [
    "def softmax(Z):\n",
    "    return np.exp(Z)/sum(np.exp(Z))"
   ]
  },
  {
   "cell_type": "markdown",
   "id": "9e622c35",
   "metadata": {},
   "source": [
    "### Defining derivative of the activation function"
   ]
  },
  {
   "cell_type": "code",
   "execution_count": 55,
   "id": "ceb29b98",
   "metadata": {},
   "outputs": [],
   "source": [
    "def der_relu(Z):\n",
    "    return Z>0"
   ]
  },
  {
   "cell_type": "markdown",
   "id": "9bcb0873",
   "metadata": {},
   "source": [
    "### Defining Forward propagation"
   ]
  },
  {
   "cell_type": "code",
   "execution_count": 56,
   "id": "0efb751d",
   "metadata": {},
   "outputs": [],
   "source": [
    "def forward_propagation(X,parameters):\n",
    "    W1=parameters[\"W1\"]\n",
    "    b1=parameters[\"b1\"]\n",
    "    W2=parameters[\"W2\"]\n",
    "    b2=parameters[\"b2\"]\n",
    "    Z1=np.dot(W1,X)+b1\n",
    "    A1=relu(Z1)\n",
    "    Z2=np.dot(W2,A1)+b2\n",
    "    A2=softmax(Z2)\n",
    "    cache={\n",
    "        \"Z1\":Z1,\n",
    "        \"A1\":A1,\n",
    "        \"Z2\":Z2,\n",
    "        \"A2\":A2\n",
    "    }\n",
    "    return A2,cache"
   ]
  },
  {
   "cell_type": "markdown",
   "id": "ab8740af",
   "metadata": {},
   "source": [
    "### Computing the cost "
   ]
  },
  {
   "cell_type": "code",
   "execution_count": 57,
   "id": "75967cd7",
   "metadata": {},
   "outputs": [],
   "source": [
    "def compute_cost(A2,Y):\n",
    "    m=Y.shape[1]\n",
    "    l=(Y*np.log(A2))+((1-Y)*np.log(1-A2))\n",
    "    cost=(-1/m)*np.sum(l)\n",
    "    cost=float(np.squeeze(cost))\n",
    "    return cost"
   ]
  },
  {
   "cell_type": "markdown",
   "id": "aa49420a",
   "metadata": {},
   "source": [
    "### Defining backward propagation "
   ]
  },
  {
   "cell_type": "code",
   "execution_count": 62,
   "id": "94710445",
   "metadata": {},
   "outputs": [],
   "source": [
    "def backward_propagation(parameters,cache,X,Y):\n",
    "    m=Y.size\n",
    "#     one_hot_Y=one_hot(Y)\n",
    "    W1=parameters[\"W1\"]\n",
    "    b1=parameters[\"b1\"]\n",
    "    W2=parameters[\"W2\"]\n",
    "    b2=parameters[\"b2\"]\n",
    "    Z1=cache[\"Z1\"]\n",
    "    A1=cache[\"A1\"]\n",
    "    Z2=cache[\"Z2\"]\n",
    "    A2=cache[\"A2\"]\n",
    "    dZ2=A2-Y\n",
    "    dW2=(1/m)*np.dot(dZ2,A1.T)\n",
    "    db2=(1/m)*np.sum(dZ2,axis=1,keepdims=True)\n",
    "    dZ1=(np.dot(dW2.T,dZ2))*(der_relu(Z1))\n",
    "    dW1=(1/m)*np.dot(dZ1,X.T)\n",
    "    db1=(1/m)*np.sum(dZ1,axis=1,keepdims=True)\n",
    "    grad={\n",
    "        \"dW2\":dW2,\n",
    "        \"db2\":db2,\n",
    "        \"dW1\":dW1,\n",
    "        \"db1\":db1\n",
    "    }\n",
    "#     caches={\n",
    "#     'cache':cache,\n",
    "#     'parameters':parameters,\n",
    "#     'cng_prm':cng_prm\n",
    "#     }\n",
    "    return grad"
   ]
  },
  {
   "cell_type": "markdown",
   "id": "7395cf51",
   "metadata": {},
   "source": [
    "## Defining update parameters function"
   ]
  },
  {
   "cell_type": "code",
   "execution_count": 71,
   "id": "e0de3fb0",
   "metadata": {},
   "outputs": [],
   "source": [
    "def update_param(grads,parameteres,learning_rate):\n",
    "    param=parameteres.copy()\n",
    "    param[\"W1\"]=param[\"W1\"]-(learning_rate*grads[\"dW1\"])\n",
    "    param[\"b1\"]=param[\"b1\"]-(learning_rate*grads[\"db1\"])\n",
    "    param[\"W2\"]=param[\"W2\"]-(learning_rate*grads[\"dW2\"])\n",
    "    param[\"b2\"]=param[\"b2\"]-(learning_rate*grads[\"db2\"])\n",
    "    return param"
   ]
  },
  {
   "cell_type": "markdown",
   "id": "c8394a7a",
   "metadata": {},
   "source": [
    "## Functions for finding accuracy"
   ]
  },
  {
   "cell_type": "code",
   "execution_count": 60,
   "id": "05e5c9ea",
   "metadata": {},
   "outputs": [],
   "source": [
    "def get_prediction(A2):\n",
    "    return np.argmax(A2,0)"
   ]
  },
  {
   "cell_type": "code",
   "execution_count": 76,
   "id": "005beb7d",
   "metadata": {},
   "outputs": [],
   "source": [
    "def get_accuracy(prediction,Y):\n",
    "    #print(prediction,Y)\n",
    "    return np.sum(prediction==Y)/ Y.size"
   ]
  },
  {
   "cell_type": "markdown",
   "id": "a9ae01a6",
   "metadata": {},
   "source": [
    "## Creating the model"
   ]
  },
  {
   "cell_type": "code",
   "execution_count": 77,
   "id": "ab3d1b1d",
   "metadata": {},
   "outputs": [],
   "source": [
    "def nn_model(X,Y,iterations,alpha):\n",
    "    n_x, n_h, n_y=layer_sizes(X,Y)\n",
    "    one_hot_Y=one_hot(Y)\n",
    "    parameters=initialize_parameters(n_x,n_h,n_y)\n",
    "    for i in range(iterations):\n",
    "        A2,cache=forward_propagation(X,parameters)\n",
    "        cost=compute_cost(A2,one_hot_Y)\n",
    "        grad=backward_propagation(parameters,cache,X,one_hot_Y)\n",
    "        parameters=update_param(grad,parameters,alpha)\n",
    "        if(i%10 == 0):\n",
    "            print(\"Iteration: \", i)\n",
    "            predictions = get_prediction(A2)\n",
    "            print(get_accuracy(predictions,one_hot_Y)) \n",
    "            print(cost)\n",
    "    return parameters"
   ]
  },
  {
   "cell_type": "code",
   "execution_count": 78,
   "id": "53fba4c9",
   "metadata": {},
   "outputs": [
    {
     "name": "stdout",
     "output_type": "stream",
     "text": [
      "Iteration:  0\n",
      "0.0006875\n",
      "6.947367432532849\n",
      "Iteration:  10\n",
      "0.001665\n",
      "5.6799311247926445\n",
      "Iteration:  20\n",
      "0.00334\n",
      "5.026539012015516\n",
      "Iteration:  30\n",
      "0.006415\n",
      "4.598974413809354\n",
      "Iteration:  40\n",
      "0.011005\n",
      "4.277841888201985\n",
      "Iteration:  50\n",
      "0.019505\n",
      "4.02799106031694\n",
      "Iteration:  60\n",
      "0.03252\n",
      "3.8359430345378085\n",
      "Iteration:  70\n",
      "0.0488125\n",
      "3.6929841827811813\n",
      "Iteration:  80\n",
      "0.06457\n",
      "3.5894888901036075\n",
      "Iteration:  90\n",
      "0.0765975\n",
      "3.5138819532289243\n",
      "Iteration:  100\n",
      "0.0842725\n",
      "3.455474613425936\n",
      "Iteration:  110\n",
      "0.0893925\n",
      "3.406978076095017\n",
      "Iteration:  120\n",
      "0.092195\n",
      "3.36437502312239\n",
      "Iteration:  130\n",
      "0.093515\n",
      "3.3256578048147385\n",
      "Iteration:  140\n",
      "0.09355\n",
      "3.2898247336507382\n",
      "Iteration:  150\n",
      "0.09416\n",
      "3.256342452629285\n",
      "Iteration:  160\n",
      "0.09405\n",
      "3.224895300683338\n",
      "Iteration:  170\n",
      "0.093595\n",
      "3.195273649972075\n",
      "Iteration:  180\n",
      "0.09448\n",
      "3.1673224167395198\n",
      "Iteration:  190\n",
      "0.0943975\n",
      "3.1409182387704813\n",
      "Iteration:  200\n",
      "0.095545\n",
      "3.1159551400833285\n",
      "Iteration:  210\n",
      "0.09645\n",
      "3.0923396322346948\n",
      "Iteration:  220\n",
      "0.0974525\n",
      "3.0699867969644634\n",
      "Iteration:  230\n",
      "0.0983525\n",
      "3.048818541652371\n",
      "Iteration:  240\n",
      "0.0995825\n",
      "3.0287620245714186\n",
      "Iteration:  250\n",
      "0.100355\n",
      "3.009750001004369\n",
      "Iteration:  260\n",
      "0.1011725\n",
      "2.9917197412006584\n",
      "Iteration:  270\n",
      "0.1017025\n",
      "2.9746121925172893\n",
      "Iteration:  280\n",
      "0.10259\n",
      "2.958372214277043\n",
      "Iteration:  290\n",
      "0.1031625\n",
      "2.9429478024920472\n",
      "Iteration:  300\n",
      "0.1041225\n",
      "2.928290580277946\n",
      "Iteration:  310\n",
      "0.1048325\n",
      "2.9143552414667173\n",
      "Iteration:  320\n",
      "0.104875\n",
      "2.9010991003062787\n",
      "Iteration:  330\n",
      "0.10523\n",
      "2.888482386531728\n",
      "Iteration:  340\n",
      "0.1059125\n",
      "2.876467925288903\n",
      "Iteration:  350\n",
      "0.105815\n",
      "2.865020709219574\n",
      "Iteration:  360\n",
      "0.1065\n",
      "2.854107640950661\n",
      "Iteration:  370\n",
      "0.106\n",
      "2.8436979537612124\n",
      "Iteration:  380\n",
      "0.1061675\n",
      "2.8337627814442925\n",
      "Iteration:  390\n",
      "0.106015\n",
      "2.824275099837596\n",
      "Iteration:  400\n",
      "0.105655\n",
      "2.8152094921099717\n",
      "Iteration:  410\n",
      "0.1054425\n",
      "2.8065421756316193\n",
      "Iteration:  420\n",
      "0.1055125\n",
      "2.7982508253652467\n",
      "Iteration:  430\n",
      "0.1054925\n",
      "2.790314526845958\n",
      "Iteration:  440\n",
      "0.1055075\n",
      "2.7827134341071416\n",
      "Iteration:  450\n",
      "0.105185\n",
      "2.775429147449111\n",
      "Iteration:  460\n",
      "0.10515\n",
      "2.7684443493650996\n",
      "Iteration:  470\n",
      "0.10496\n",
      "2.7617428715345325\n",
      "Iteration:  480\n",
      "0.10485\n",
      "2.7553094973758947\n",
      "Iteration:  490\n",
      "0.104395\n",
      "2.7491298136452293\n"
     ]
    }
   ],
   "source": [
    "param=nn_model(X_train, Y_train, 500 , 0.10)"
   ]
  },
  {
   "cell_type": "code",
   "execution_count": 80,
   "id": "61cd9911",
   "metadata": {},
   "outputs": [],
   "source": [
    "temp=one_hot(Y_train)"
   ]
  },
  {
   "cell_type": "code",
   "execution_count": 81,
   "id": "eca3d5bd",
   "metadata": {},
   "outputs": [
    {
     "data": {
      "text/plain": [
       "array([[0., 0., 0., ..., 0., 0., 0.],\n",
       "       [0., 0., 0., ..., 1., 0., 0.],\n",
       "       [1., 0., 1., ..., 0., 0., 0.],\n",
       "       ...,\n",
       "       [0., 0., 0., ..., 0., 0., 0.],\n",
       "       [0., 0., 0., ..., 0., 0., 0.],\n",
       "       [0., 0., 0., ..., 0., 0., 1.]])"
      ]
     },
     "execution_count": 81,
     "metadata": {},
     "output_type": "execute_result"
    }
   ],
   "source": [
    "temp"
   ]
  },
  {
   "cell_type": "code",
   "execution_count": 82,
   "id": "51d78f50",
   "metadata": {},
   "outputs": [
    {
     "data": {
      "text/plain": [
       "(10, 40000)"
      ]
     },
     "execution_count": 82,
     "metadata": {},
     "output_type": "execute_result"
    }
   ],
   "source": [
    "temp.shape"
   ]
  },
  {
   "cell_type": "code",
   "execution_count": 83,
   "id": "e2fee138",
   "metadata": {},
   "outputs": [
    {
     "data": {
      "text/plain": [
       "400000"
      ]
     },
     "execution_count": 83,
     "metadata": {},
     "output_type": "execute_result"
    }
   ],
   "source": [
    "temp.size"
   ]
  },
  {
   "cell_type": "code",
   "execution_count": 87,
   "id": "dcd40dfe",
   "metadata": {},
   "outputs": [],
   "source": [
    "let=np.random.randn(10,784)*0.01"
   ]
  },
  {
   "cell_type": "code",
   "execution_count": 89,
   "id": "a73f14f9",
   "metadata": {},
   "outputs": [
    {
     "data": {
      "text/plain": [
       "9.407560036876248"
      ]
     },
     "execution_count": 89,
     "metadata": {},
     "output_type": "execute_result"
    }
   ],
   "source": [
    "np.sum(param['W1']-let)"
   ]
  },
  {
   "cell_type": "code",
   "execution_count": null,
   "id": "819809ee",
   "metadata": {},
   "outputs": [],
   "source": []
  }
 ],
 "metadata": {
  "kernelspec": {
   "display_name": "Python 3 (ipykernel)",
   "language": "python",
   "name": "python3"
  },
  "language_info": {
   "codemirror_mode": {
    "name": "ipython",
    "version": 3
   },
   "file_extension": ".py",
   "mimetype": "text/x-python",
   "name": "python",
   "nbconvert_exporter": "python",
   "pygments_lexer": "ipython3",
   "version": "3.9.0"
  }
 },
 "nbformat": 4,
 "nbformat_minor": 5
}
