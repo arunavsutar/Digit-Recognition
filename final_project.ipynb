{
 "cells": [
  {
   "cell_type": "code",
   "execution_count": 1,
   "id": "f241c83e",
   "metadata": {},
   "outputs": [],
   "source": [
    "import pandas as pd\n",
    "import numpy as np\n",
    "import matplotlib.pyplot as plt"
   ]
  },
  {
   "cell_type": "code",
   "execution_count": 2,
   "id": "6006857b",
   "metadata": {},
   "outputs": [],
   "source": [
    "df=pd.read_csv(\"train.csv\")"
   ]
  },
  {
   "cell_type": "code",
   "execution_count": 3,
   "id": "1192a385",
   "metadata": {},
   "outputs": [
    {
     "data": {
      "text/html": [
       "<div>\n",
       "<style scoped>\n",
       "    .dataframe tbody tr th:only-of-type {\n",
       "        vertical-align: middle;\n",
       "    }\n",
       "\n",
       "    .dataframe tbody tr th {\n",
       "        vertical-align: top;\n",
       "    }\n",
       "\n",
       "    .dataframe thead th {\n",
       "        text-align: right;\n",
       "    }\n",
       "</style>\n",
       "<table border=\"1\" class=\"dataframe\">\n",
       "  <thead>\n",
       "    <tr style=\"text-align: right;\">\n",
       "      <th></th>\n",
       "      <th>label</th>\n",
       "      <th>pixel0</th>\n",
       "      <th>pixel1</th>\n",
       "      <th>pixel2</th>\n",
       "      <th>pixel3</th>\n",
       "      <th>pixel4</th>\n",
       "      <th>pixel5</th>\n",
       "      <th>pixel6</th>\n",
       "      <th>pixel7</th>\n",
       "      <th>pixel8</th>\n",
       "      <th>...</th>\n",
       "      <th>pixel774</th>\n",
       "      <th>pixel775</th>\n",
       "      <th>pixel776</th>\n",
       "      <th>pixel777</th>\n",
       "      <th>pixel778</th>\n",
       "      <th>pixel779</th>\n",
       "      <th>pixel780</th>\n",
       "      <th>pixel781</th>\n",
       "      <th>pixel782</th>\n",
       "      <th>pixel783</th>\n",
       "    </tr>\n",
       "  </thead>\n",
       "  <tbody>\n",
       "    <tr>\n",
       "      <th>0</th>\n",
       "      <td>1</td>\n",
       "      <td>0</td>\n",
       "      <td>0</td>\n",
       "      <td>0</td>\n",
       "      <td>0</td>\n",
       "      <td>0</td>\n",
       "      <td>0</td>\n",
       "      <td>0</td>\n",
       "      <td>0</td>\n",
       "      <td>0</td>\n",
       "      <td>...</td>\n",
       "      <td>0</td>\n",
       "      <td>0</td>\n",
       "      <td>0</td>\n",
       "      <td>0</td>\n",
       "      <td>0</td>\n",
       "      <td>0</td>\n",
       "      <td>0</td>\n",
       "      <td>0</td>\n",
       "      <td>0</td>\n",
       "      <td>0</td>\n",
       "    </tr>\n",
       "    <tr>\n",
       "      <th>1</th>\n",
       "      <td>0</td>\n",
       "      <td>0</td>\n",
       "      <td>0</td>\n",
       "      <td>0</td>\n",
       "      <td>0</td>\n",
       "      <td>0</td>\n",
       "      <td>0</td>\n",
       "      <td>0</td>\n",
       "      <td>0</td>\n",
       "      <td>0</td>\n",
       "      <td>...</td>\n",
       "      <td>0</td>\n",
       "      <td>0</td>\n",
       "      <td>0</td>\n",
       "      <td>0</td>\n",
       "      <td>0</td>\n",
       "      <td>0</td>\n",
       "      <td>0</td>\n",
       "      <td>0</td>\n",
       "      <td>0</td>\n",
       "      <td>0</td>\n",
       "    </tr>\n",
       "    <tr>\n",
       "      <th>2</th>\n",
       "      <td>1</td>\n",
       "      <td>0</td>\n",
       "      <td>0</td>\n",
       "      <td>0</td>\n",
       "      <td>0</td>\n",
       "      <td>0</td>\n",
       "      <td>0</td>\n",
       "      <td>0</td>\n",
       "      <td>0</td>\n",
       "      <td>0</td>\n",
       "      <td>...</td>\n",
       "      <td>0</td>\n",
       "      <td>0</td>\n",
       "      <td>0</td>\n",
       "      <td>0</td>\n",
       "      <td>0</td>\n",
       "      <td>0</td>\n",
       "      <td>0</td>\n",
       "      <td>0</td>\n",
       "      <td>0</td>\n",
       "      <td>0</td>\n",
       "    </tr>\n",
       "    <tr>\n",
       "      <th>3</th>\n",
       "      <td>4</td>\n",
       "      <td>0</td>\n",
       "      <td>0</td>\n",
       "      <td>0</td>\n",
       "      <td>0</td>\n",
       "      <td>0</td>\n",
       "      <td>0</td>\n",
       "      <td>0</td>\n",
       "      <td>0</td>\n",
       "      <td>0</td>\n",
       "      <td>...</td>\n",
       "      <td>0</td>\n",
       "      <td>0</td>\n",
       "      <td>0</td>\n",
       "      <td>0</td>\n",
       "      <td>0</td>\n",
       "      <td>0</td>\n",
       "      <td>0</td>\n",
       "      <td>0</td>\n",
       "      <td>0</td>\n",
       "      <td>0</td>\n",
       "    </tr>\n",
       "    <tr>\n",
       "      <th>4</th>\n",
       "      <td>0</td>\n",
       "      <td>0</td>\n",
       "      <td>0</td>\n",
       "      <td>0</td>\n",
       "      <td>0</td>\n",
       "      <td>0</td>\n",
       "      <td>0</td>\n",
       "      <td>0</td>\n",
       "      <td>0</td>\n",
       "      <td>0</td>\n",
       "      <td>...</td>\n",
       "      <td>0</td>\n",
       "      <td>0</td>\n",
       "      <td>0</td>\n",
       "      <td>0</td>\n",
       "      <td>0</td>\n",
       "      <td>0</td>\n",
       "      <td>0</td>\n",
       "      <td>0</td>\n",
       "      <td>0</td>\n",
       "      <td>0</td>\n",
       "    </tr>\n",
       "  </tbody>\n",
       "</table>\n",
       "<p>5 rows × 785 columns</p>\n",
       "</div>"
      ],
      "text/plain": [
       "   label  pixel0  pixel1  pixel2  pixel3  pixel4  pixel5  pixel6  pixel7  \\\n",
       "0      1       0       0       0       0       0       0       0       0   \n",
       "1      0       0       0       0       0       0       0       0       0   \n",
       "2      1       0       0       0       0       0       0       0       0   \n",
       "3      4       0       0       0       0       0       0       0       0   \n",
       "4      0       0       0       0       0       0       0       0       0   \n",
       "\n",
       "   pixel8  ...  pixel774  pixel775  pixel776  pixel777  pixel778  pixel779  \\\n",
       "0       0  ...         0         0         0         0         0         0   \n",
       "1       0  ...         0         0         0         0         0         0   \n",
       "2       0  ...         0         0         0         0         0         0   \n",
       "3       0  ...         0         0         0         0         0         0   \n",
       "4       0  ...         0         0         0         0         0         0   \n",
       "\n",
       "   pixel780  pixel781  pixel782  pixel783  \n",
       "0         0         0         0         0  \n",
       "1         0         0         0         0  \n",
       "2         0         0         0         0  \n",
       "3         0         0         0         0  \n",
       "4         0         0         0         0  \n",
       "\n",
       "[5 rows x 785 columns]"
      ]
     },
     "execution_count": 3,
     "metadata": {},
     "output_type": "execute_result"
    }
   ],
   "source": [
    "df.head()"
   ]
  },
  {
   "cell_type": "code",
   "execution_count": 4,
   "id": "301547ad",
   "metadata": {},
   "outputs": [],
   "source": [
    "data = np.array(df)\n",
    "np.random.shuffle(data)\n",
    "dev=data[0:2000]\n",
    "train=data[2000:data.shape[0]]\n",
    "train=train.T\n",
    "n,m=train.shape\n",
    "train_Y=train[0].reshape(1,m)\n",
    "train_X=train[1:n]\n",
    "train_X=train_X/255"
   ]
  },
  {
   "cell_type": "code",
   "execution_count": 5,
   "id": "25edce93",
   "metadata": {},
   "outputs": [
    {
     "name": "stdout",
     "output_type": "stream",
     "text": [
      "(1, 2000)\n",
      "(784, 2000)\n"
     ]
    }
   ],
   "source": [
    "dev=dev.T\n",
    "dev_Y=dev[0].reshape(1,2000)\n",
    "dev_X=dev[1:dev.shape[0]]\n",
    "print(dev_Y.shape)\n",
    "print(dev_X.shape)"
   ]
  },
  {
   "cell_type": "code",
   "execution_count": 6,
   "id": "dfdad42e",
   "metadata": {},
   "outputs": [
    {
     "name": "stdout",
     "output_type": "stream",
     "text": [
      "(1, 40000)\n",
      "(784, 40000)\n",
      "784 40000\n"
     ]
    }
   ],
   "source": [
    "n=train_X.shape[0]\n",
    "print(train_Y.shape)\n",
    "print(train_X.shape)\n",
    "print(n,m)"
   ]
  },
  {
   "cell_type": "code",
   "execution_count": 7,
   "id": "2637d4a7",
   "metadata": {},
   "outputs": [
    {
     "data": {
      "text/plain": [
       "9"
      ]
     },
     "execution_count": 7,
     "metadata": {},
     "output_type": "execute_result"
    }
   ],
   "source": [
    "train_Y.max()"
   ]
  },
  {
   "cell_type": "code",
   "execution_count": 8,
   "id": "ef1f646b",
   "metadata": {},
   "outputs": [
    {
     "data": {
      "text/plain": [
       "1.0"
      ]
     },
     "execution_count": 8,
     "metadata": {},
     "output_type": "execute_result"
    }
   ],
   "source": [
    "train_X.max()"
   ]
  },
  {
   "cell_type": "code",
   "execution_count": 9,
   "id": "d1e07e95",
   "metadata": {},
   "outputs": [],
   "source": [
    "def initialize_parameters(n_x,n_h,n_y):\n",
    "    parameters={}\n",
    "    parameters[\"W1\"]=np.random.randn(n_h,n_x)*0.01\n",
    "    parameters[\"b1\"]=np.zeros((n_h,1))\n",
    "    parameters[\"W2\"]=np.random.randn(n_y,n_h)*0.01\n",
    "    parameters[\"b2\"]=np.zeros((n_y,1))\n",
    "    return parameters"
   ]
  },
  {
   "cell_type": "code",
   "execution_count": 10,
   "id": "c80130ca",
   "metadata": {},
   "outputs": [],
   "source": [
    "def linear_forward(A_prev,W,b):\n",
    "    Z=np.dot(W,A_prev)+b\n",
    "    cache=(A_prev,W,b)\n",
    "    return Z,cache"
   ]
  },
  {
   "cell_type": "code",
   "execution_count": 11,
   "id": "e97c0529",
   "metadata": {},
   "outputs": [],
   "source": [
    "def RELU(Z):\n",
    "    temp=Z\n",
    "    for i in range(Z.shape[0]):\n",
    "        for j in range(Z.shape[1]):\n",
    "            if Z[i][j]<0:\n",
    "                Z[i][j]=0\n",
    "    A=Z\n",
    "    return A,temp"
   ]
  },
  {
   "cell_type": "code",
   "execution_count": 12,
   "id": "617420c1",
   "metadata": {},
   "outputs": [],
   "source": [
    "def softmax(Z):\n",
    "    A = np.exp(Z) / sum(np.exp(Z))\n",
    "    cache=Z\n",
    "    return A,cache"
   ]
  },
  {
   "cell_type": "code",
   "execution_count": 13,
   "id": "2770d62f",
   "metadata": {},
   "outputs": [],
   "source": [
    "def linear_activation_forward(A_prev,W,b,activation):\n",
    "    if activation=='relu':\n",
    "        Z,linear_cache=linear_forward(A_prev,W,b)\n",
    "        A,activation_cache=RELU(Z)\n",
    "    if activation=='softmax':\n",
    "        Z,linear_cache=linear_forward(A_prev,W,b)\n",
    "        A,activation_cache=softmax(Z)\n",
    "    cache=(linear_cache,activation_cache)\n",
    "    return A,cache"
   ]
  },
  {
   "cell_type": "code",
   "execution_count": 14,
   "id": "8354252d",
   "metadata": {},
   "outputs": [],
   "source": [
    "# def compute_cost(AL,Y):\n",
    "#     m=Y.shape[1]\n",
    "#     temp=(Y*np.log(AL))+((1-Y)*np.log(1-AL))\n",
    "#     cost=(-1/m)*np."
   ]
  },
  {
   "cell_type": "code",
   "execution_count": 15,
   "id": "cc3b98e9",
   "metadata": {},
   "outputs": [],
   "source": [
    "def accuracy(AL,Y):\n",
    "    #shape of AL=(10,m),Y=(10,m)\n",
    "    return np.sum(np.argmax(AL,0)==np.argmax(Y,0))/Y.shape[1]"
   ]
  },
  {
   "cell_type": "code",
   "execution_count": 16,
   "id": "6e243b13",
   "metadata": {},
   "outputs": [],
   "source": [
    "def linear_backward(dZ,cache):\n",
    "    A_prev,W,b=cache\n",
    "    m=A_prev.shape[1]\n",
    "    dW=(1/m)*np.dot(dZ,A_prev.T)\n",
    "    db=(1/m)*np.sum(dZ,axis=1,keepdims=True)\n",
    "    dA_prev=np.dot(W.T,dZ)\n",
    "    return dA_prev,dW,db"
   ]
  },
  {
   "cell_type": "code",
   "execution_count": 17,
   "id": "31f077a7",
   "metadata": {},
   "outputs": [],
   "source": [
    "def backward_relu(dA,cache):\n",
    "    Z=cache\n",
    "    for i in range(Z.shape[0]):\n",
    "        for j in range(Z.shape[1]):\n",
    "            if Z[i][j]<=0:\n",
    "                Z[i][j]=0\n",
    "    dZ=Z*dA\n",
    "    return dZ"
   ]
  },
  {
   "cell_type": "code",
   "execution_count": 18,
   "id": "74ca3e1c",
   "metadata": {},
   "outputs": [],
   "source": [
    "def backward_softmax(dA,cache):\n",
    "    Z=cache\n",
    "    a,c=softmax(Z)\n",
    "    temp=a*(1-a)\n",
    "    dZ=dA*temp\n",
    "    return dZ"
   ]
  },
  {
   "cell_type": "code",
   "execution_count": 19,
   "id": "1fa43967",
   "metadata": {},
   "outputs": [],
   "source": [
    "def linear_activation_backward(dA,cache,activation):\n",
    "    linear_cache,activation_cache=cache\n",
    "    if activation=='relu':\n",
    "        dZ=backward_relu(dA,activation_cache)\n",
    "        dA_prev,dW,db=linear_backward(dZ,linear_cache)\n",
    "    if activation=='softmax':\n",
    "        dZ=backward_softmax(dA,activation_cache)\n",
    "        dA_prev,dW,db=linear_backward(dZ,linear_cache)\n",
    "    return dA_prev,dW,db  "
   ]
  },
  {
   "cell_type": "code",
   "execution_count": 20,
   "id": "54b7e566",
   "metadata": {},
   "outputs": [],
   "source": [
    "def update_parameters(parameters,grads,learning_rate):\n",
    "    param=parameters.copy()\n",
    "    param[\"W1\"]=param[\"W1\"]-(learning_rate*grads[\"dW1\"])\n",
    "    param[\"b1\"]=param[\"b1\"]-(learning_rate*grads[\"db1\"])\n",
    "    param[\"W2\"]=param[\"W2\"]-(learning_rate*grads[\"dW2\"])\n",
    "    param[\"b2\"]=param[\"b2\"]-(learning_rate*grads[\"db2\"])\n",
    "    return param"
   ]
  },
  {
   "cell_type": "code",
   "execution_count": 21,
   "id": "c61ad7d1",
   "metadata": {},
   "outputs": [],
   "source": [
    "def one_hot_encode(Y):\n",
    "    one_Y=np.zeros((Y.shape[1],10))\n",
    "    one_Y[np.arange(Y.shape[1]),Y]=1\n",
    "    return one_Y.T"
   ]
  },
  {
   "cell_type": "code",
   "execution_count": 22,
   "id": "0dac5d08",
   "metadata": {},
   "outputs": [],
   "source": [
    "def two_layer_model(X,Y,learning_rate,num_iterations):\n",
    "    grads={}\n",
    "    m=X.shape[1]\n",
    "    n_x,n_h,n_y=X.shape[0],10,10\n",
    "    parameters=initialize_parameters(n_x,n_h,n_y)\n",
    "    W1 = parameters[\"W1\"]\n",
    "    b1 = parameters[\"b1\"]\n",
    "    W2 = parameters[\"W2\"]\n",
    "    b2 = parameters[\"b2\"]\n",
    "    for i in range(0,num_iterations):\n",
    "        A1,cache1=linear_activation_forward(X,W1,b1,'relu')\n",
    "        A2,cache2=linear_activation_forward(A1,W2,b2,'softmax')\n",
    "        \n",
    "        dA2=-(np.divide(Y,A2)-np.divide(1-Y,1-A2))\n",
    "        \n",
    "        dA1,dW2,db2=linear_activation_backward(dA2,cache2,'softmax')\n",
    "        dA0,dW1,db1=linear_activation_backward(dA1,cache1,'relu')\n",
    "        \n",
    "        grads['dW1'] = dW1\n",
    "        grads['db1'] = db1\n",
    "        grads['dW2'] = dW2\n",
    "        grads['db2'] = db2\n",
    "        \n",
    "        parameters=update_parameters(parameters,grads,learning_rate)\n",
    "        \n",
    "        W1 = parameters[\"W1\"]\n",
    "        b1 = parameters[\"b1\"]\n",
    "        W2 = parameters[\"W2\"]\n",
    "        b2 = parameters[\"b2\"]\n",
    "        \n",
    "        if i%10==0:\n",
    "            print(\"Iteration No.\"+str(i))\n",
    "            print(accuracy(A2,Y))\n",
    "        \n",
    "    return parameters"
   ]
  },
  {
   "cell_type": "code",
   "execution_count": 23,
   "id": "8412fc64",
   "metadata": {},
   "outputs": [],
   "source": [
    "one_Y=one_hot_encode(train_Y)"
   ]
  },
  {
   "cell_type": "code",
   "execution_count": 24,
   "id": "2c2bd399",
   "metadata": {},
   "outputs": [
    {
     "name": "stdout",
     "output_type": "stream",
     "text": [
      "Iteration No.0\n",
      "0.09465\n",
      "Iteration No.10\n",
      "0.11155\n",
      "Iteration No.20\n",
      "0.1114\n",
      "Iteration No.30\n",
      "0.1114\n",
      "Iteration No.40\n",
      "0.1114\n",
      "Iteration No.50\n",
      "0.1114\n",
      "Iteration No.60\n",
      "0.1114\n",
      "Iteration No.70\n",
      "0.120875\n",
      "Iteration No.80\n",
      "0.202375\n",
      "Iteration No.90\n",
      "0.199675\n",
      "Iteration No.100\n",
      "0.109225\n",
      "Iteration No.110\n",
      "0.14005\n",
      "Iteration No.120\n",
      "0.2667\n",
      "Iteration No.130\n",
      "0.385875\n",
      "Iteration No.140\n",
      "0.48985\n",
      "Iteration No.150\n",
      "0.62825\n",
      "Iteration No.160\n",
      "0.43795\n",
      "Iteration No.170\n",
      "0.567475\n",
      "Iteration No.180\n",
      "0.69245\n",
      "Iteration No.190\n",
      "0.717775\n",
      "Iteration No.200\n",
      "0.741025\n",
      "Iteration No.210\n",
      "0.7658\n",
      "Iteration No.220\n",
      "0.682925\n",
      "Iteration No.230\n",
      "0.756425\n",
      "Iteration No.240\n",
      "0.739525\n",
      "Iteration No.250\n",
      "0.7729\n",
      "Iteration No.260\n",
      "0.778725\n",
      "Iteration No.270\n",
      "0.792525\n",
      "Iteration No.280\n",
      "0.8028\n",
      "Iteration No.290\n",
      "0.811525\n",
      "Iteration No.300\n",
      "0.819625\n",
      "Iteration No.310\n",
      "0.8264\n",
      "Iteration No.320\n",
      "0.8317\n",
      "Iteration No.330\n",
      "0.836875\n",
      "Iteration No.340\n",
      "0.841325\n",
      "Iteration No.350\n",
      "0.844525\n",
      "Iteration No.360\n",
      "0.848025\n",
      "Iteration No.370\n",
      "0.85205\n",
      "Iteration No.380\n",
      "0.8547\n",
      "Iteration No.390\n",
      "0.857025\n",
      "Iteration No.400\n",
      "0.85875\n",
      "Iteration No.410\n",
      "0.8611\n",
      "Iteration No.420\n",
      "0.863475\n",
      "Iteration No.430\n",
      "0.865625\n",
      "Iteration No.440\n",
      "0.8671\n",
      "Iteration No.450\n",
      "0.868825\n",
      "Iteration No.460\n",
      "0.870175\n",
      "Iteration No.470\n",
      "0.871325\n",
      "Iteration No.480\n",
      "0.872275\n",
      "Iteration No.490\n",
      "0.87345\n"
     ]
    }
   ],
   "source": [
    "parameters=two_layer_model(train_X,one_Y,0.1,500)"
   ]
  },
  {
   "cell_type": "code",
   "execution_count": 25,
   "id": "9dd65202",
   "metadata": {},
   "outputs": [],
   "source": [
    "test_Y=one_hot_encode(dev_Y)"
   ]
  },
  {
   "cell_type": "code",
   "execution_count": 26,
   "id": "28ba7505",
   "metadata": {},
   "outputs": [],
   "source": [
    "def test_set_accuracy(X,Y,parameters):\n",
    "    W1=parameters['W1']\n",
    "    b1=parameters['b1']\n",
    "    W2=parameters['W2']\n",
    "    b2=parameters['b2']\n",
    "    A1,cache1=linear_activation_forward(X,W1,b1,'relu')\n",
    "    A2,cache2=linear_activation_forward(A1,W2,b2,'softmax')\n",
    "    print(\"The test set Accuracy is :- \"+str(accuracy(A2,Y)))\n",
    "    "
   ]
  },
  {
   "cell_type": "code",
   "execution_count": 27,
   "id": "f15ab603",
   "metadata": {},
   "outputs": [
    {
     "name": "stdout",
     "output_type": "stream",
     "text": [
      "The test set Accuracy is :- 0.519\n"
     ]
    },
    {
     "name": "stderr",
     "output_type": "stream",
     "text": [
      "C:\\Users\\arunav\\AppData\\Local\\Temp\\ipykernel_14536\\3601929796.py:2: RuntimeWarning: overflow encountered in exp\n",
      "  A = np.exp(Z) / sum(np.exp(Z))\n",
      "C:\\Users\\arunav\\AppData\\Local\\Temp\\ipykernel_14536\\3601929796.py:2: RuntimeWarning: invalid value encountered in true_divide\n",
      "  A = np.exp(Z) / sum(np.exp(Z))\n"
     ]
    }
   ],
   "source": [
    "test_set_accuracy(dev_X,test_Y,parameters)"
   ]
  },
  {
   "cell_type": "code",
   "execution_count": 28,
   "id": "86c74cd3",
   "metadata": {},
   "outputs": [],
   "source": [
    "def user_img_test(X,parameters):\n",
    "    W1=parameters['W1']\n",
    "    b1=parameters['b1']\n",
    "    W2=parameters['W2']\n",
    "    b2=parameters['b2']\n",
    "    A1,cache1=linear_activation_forward(X,W1,b1,'relu')\n",
    "    A2,cache2=linear_activation_forward(A1,W2,b2,'softmax')\n",
    "    print(np.argmax(A2,0)[0])"
   ]
  },
  {
   "cell_type": "code",
   "execution_count": 34,
   "id": "bcfcb52d",
   "metadata": {},
   "outputs": [
    {
     "name": "stdout",
     "output_type": "stream",
     "text": [
      "Actual Label:-3\n",
      "Detected Level:-3\n"
     ]
    },
    {
     "name": "stderr",
     "output_type": "stream",
     "text": [
      "C:\\Users\\arunav\\AppData\\Local\\Temp\\ipykernel_14536\\3601929796.py:2: RuntimeWarning: overflow encountered in exp\n",
      "  A = np.exp(Z) / sum(np.exp(Z))\n",
      "C:\\Users\\arunav\\AppData\\Local\\Temp\\ipykernel_14536\\3601929796.py:2: RuntimeWarning: invalid value encountered in true_divide\n",
      "  A = np.exp(Z) / sum(np.exp(Z))\n"
     ]
    },
    {
     "data": {
      "image/png": "[encoded data removed]",
      "text/plain": [
       "<Figure size 432x288 with 1 Axes>"
      ]
     },
     "metadata": {
      "needs_background": "light"
     },
     "output_type": "display_data"
    }
   ],
   "source": [
    "index=91\n",
    "#img=df[index,1:].reshape((64,64))\n",
    "img=dev_X[:,index].reshape((28,28))\n",
    "plt.imshow(img)\n",
    "print(\"Actual Label:-\"+str(dev_Y[0,index]))\n",
    "case1=dev_X[:,index].reshape((784,1))\n",
    "print(\"Detected Level:-\",end=\"\")\n",
    "user_img_test(case1,parameters)"
   ]
  },
  {
   "cell_type": "code",
   "execution_count": 65,
   "id": "21fbcac8",
   "metadata": {},
   "outputs": [],
   "source": [
    "case1=dev_X[:,index].reshape((784,1))"
   ]
  },
  {
   "cell_type": "code",
   "execution_count": 66,
   "id": "a05b2daa",
   "metadata": {},
   "outputs": [
    {
     "name": "stdout",
     "output_type": "stream",
     "text": [
      "8\n"
     ]
    },
    {
     "name": "stderr",
     "output_type": "stream",
     "text": [
      "C:\\Users\\arunav\\AppData\\Local\\Temp\\ipykernel_8044\\3601929796.py:2: RuntimeWarning: overflow encountered in exp\n",
      "  A = np.exp(Z) / sum(np.exp(Z))\n",
      "C:\\Users\\arunav\\AppData\\Local\\Temp\\ipykernel_8044\\3601929796.py:2: RuntimeWarning: invalid value encountered in true_divide\n",
      "  A = np.exp(Z) / sum(np.exp(Z))\n"
     ]
    }
   ],
   "source": [
    "user_img_test(case1,parameters)"
   ]
  },
  {
   "cell_type": "code",
   "execution_count": null,
   "id": "cc44d537",
   "metadata": {},
   "outputs": [],
   "source": []
  }
 ],
 "metadata": {
  "kernelspec": {
   "display_name": "Python 3 (ipykernel)",
   "language": "python",
   "name": "python3"
  },
  "language_info": {
   "codemirror_mode": {
    "name": "ipython",
    "version": 3
   },
   "file_extension": ".py",
   "mimetype": "text/x-python",
   "name": "python",
   "nbconvert_exporter": "python",
   "pygments_lexer": "ipython3",
   "version": "3.9.0"
  }
 },
 "nbformat": 4,
 "nbformat_minor": 5
}
