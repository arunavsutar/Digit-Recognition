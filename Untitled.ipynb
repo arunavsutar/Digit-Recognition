{
 "cells": [
  {
   "cell_type": "code",
   "execution_count": 1,
   "id": "38dfa3b9",
   "metadata": {},
   "outputs": [],
   "source": [
    "import numpy as np\n",
    "import pandas as pd"
   ]
  },
  {
   "cell_type": "code",
   "execution_count": 2,
   "id": "17bccf11",
   "metadata": {},
   "outputs": [],
   "source": [
    "train=pd.read_csv(\"train.csv\")"
   ]
  },
  {
   "cell_type": "code",
   "execution_count": 3,
   "id": "fbde1bbd",
   "metadata": {},
   "outputs": [
    {
     "data": {
      "text/html": [
       "<div>\n",
       "<style scoped>\n",
       "    .dataframe tbody tr th:only-of-type {\n",
       "        vertical-align: middle;\n",
       "    }\n",
       "\n",
       "    .dataframe tbody tr th {\n",
       "        vertical-align: top;\n",
       "    }\n",
       "\n",
       "    .dataframe thead th {\n",
       "        text-align: right;\n",
       "    }\n",
       "</style>\n",
       "<table border=\"1\" class=\"dataframe\">\n",
       "  <thead>\n",
       "    <tr style=\"text-align: right;\">\n",
       "      <th></th>\n",
       "      <th>label</th>\n",
       "      <th>pixel0</th>\n",
       "      <th>pixel1</th>\n",
       "      <th>pixel2</th>\n",
       "      <th>pixel3</th>\n",
       "      <th>pixel4</th>\n",
       "      <th>pixel5</th>\n",
       "      <th>pixel6</th>\n",
       "      <th>pixel7</th>\n",
       "      <th>pixel8</th>\n",
       "      <th>...</th>\n",
       "      <th>pixel774</th>\n",
       "      <th>pixel775</th>\n",
       "      <th>pixel776</th>\n",
       "      <th>pixel777</th>\n",
       "      <th>pixel778</th>\n",
       "      <th>pixel779</th>\n",
       "      <th>pixel780</th>\n",
       "      <th>pixel781</th>\n",
       "      <th>pixel782</th>\n",
       "      <th>pixel783</th>\n",
       "    </tr>\n",
       "  </thead>\n",
       "  <tbody>\n",
       "    <tr>\n",
       "      <th>0</th>\n",
       "      <td>1</td>\n",
       "      <td>0</td>\n",
       "      <td>0</td>\n",
       "      <td>0</td>\n",
       "      <td>0</td>\n",
       "      <td>0</td>\n",
       "      <td>0</td>\n",
       "      <td>0</td>\n",
       "      <td>0</td>\n",
       "      <td>0</td>\n",
       "      <td>...</td>\n",
       "      <td>0</td>\n",
       "      <td>0</td>\n",
       "      <td>0</td>\n",
       "      <td>0</td>\n",
       "      <td>0</td>\n",
       "      <td>0</td>\n",
       "      <td>0</td>\n",
       "      <td>0</td>\n",
       "      <td>0</td>\n",
       "      <td>0</td>\n",
       "    </tr>\n",
       "    <tr>\n",
       "      <th>1</th>\n",
       "      <td>0</td>\n",
       "      <td>0</td>\n",
       "      <td>0</td>\n",
       "      <td>0</td>\n",
       "      <td>0</td>\n",
       "      <td>0</td>\n",
       "      <td>0</td>\n",
       "      <td>0</td>\n",
       "      <td>0</td>\n",
       "      <td>0</td>\n",
       "      <td>...</td>\n",
       "      <td>0</td>\n",
       "      <td>0</td>\n",
       "      <td>0</td>\n",
       "      <td>0</td>\n",
       "      <td>0</td>\n",
       "      <td>0</td>\n",
       "      <td>0</td>\n",
       "      <td>0</td>\n",
       "      <td>0</td>\n",
       "      <td>0</td>\n",
       "    </tr>\n",
       "    <tr>\n",
       "      <th>2</th>\n",
       "      <td>1</td>\n",
       "      <td>0</td>\n",
       "      <td>0</td>\n",
       "      <td>0</td>\n",
       "      <td>0</td>\n",
       "      <td>0</td>\n",
       "      <td>0</td>\n",
       "      <td>0</td>\n",
       "      <td>0</td>\n",
       "      <td>0</td>\n",
       "      <td>...</td>\n",
       "      <td>0</td>\n",
       "      <td>0</td>\n",
       "      <td>0</td>\n",
       "      <td>0</td>\n",
       "      <td>0</td>\n",
       "      <td>0</td>\n",
       "      <td>0</td>\n",
       "      <td>0</td>\n",
       "      <td>0</td>\n",
       "      <td>0</td>\n",
       "    </tr>\n",
       "    <tr>\n",
       "      <th>3</th>\n",
       "      <td>4</td>\n",
       "      <td>0</td>\n",
       "      <td>0</td>\n",
       "      <td>0</td>\n",
       "      <td>0</td>\n",
       "      <td>0</td>\n",
       "      <td>0</td>\n",
       "      <td>0</td>\n",
       "      <td>0</td>\n",
       "      <td>0</td>\n",
       "      <td>...</td>\n",
       "      <td>0</td>\n",
       "      <td>0</td>\n",
       "      <td>0</td>\n",
       "      <td>0</td>\n",
       "      <td>0</td>\n",
       "      <td>0</td>\n",
       "      <td>0</td>\n",
       "      <td>0</td>\n",
       "      <td>0</td>\n",
       "      <td>0</td>\n",
       "    </tr>\n",
       "    <tr>\n",
       "      <th>4</th>\n",
       "      <td>0</td>\n",
       "      <td>0</td>\n",
       "      <td>0</td>\n",
       "      <td>0</td>\n",
       "      <td>0</td>\n",
       "      <td>0</td>\n",
       "      <td>0</td>\n",
       "      <td>0</td>\n",
       "      <td>0</td>\n",
       "      <td>0</td>\n",
       "      <td>...</td>\n",
       "      <td>0</td>\n",
       "      <td>0</td>\n",
       "      <td>0</td>\n",
       "      <td>0</td>\n",
       "      <td>0</td>\n",
       "      <td>0</td>\n",
       "      <td>0</td>\n",
       "      <td>0</td>\n",
       "      <td>0</td>\n",
       "      <td>0</td>\n",
       "    </tr>\n",
       "  </tbody>\n",
       "</table>\n",
       "<p>5 rows × 785 columns</p>\n",
       "</div>"
      ],
      "text/plain": [
       "   label  pixel0  pixel1  pixel2  pixel3  pixel4  pixel5  pixel6  pixel7  \\\n",
       "0      1       0       0       0       0       0       0       0       0   \n",
       "1      0       0       0       0       0       0       0       0       0   \n",
       "2      1       0       0       0       0       0       0       0       0   \n",
       "3      4       0       0       0       0       0       0       0       0   \n",
       "4      0       0       0       0       0       0       0       0       0   \n",
       "\n",
       "   pixel8  ...  pixel774  pixel775  pixel776  pixel777  pixel778  pixel779  \\\n",
       "0       0  ...         0         0         0         0         0         0   \n",
       "1       0  ...         0         0         0         0         0         0   \n",
       "2       0  ...         0         0         0         0         0         0   \n",
       "3       0  ...         0         0         0         0         0         0   \n",
       "4       0  ...         0         0         0         0         0         0   \n",
       "\n",
       "   pixel780  pixel781  pixel782  pixel783  \n",
       "0         0         0         0         0  \n",
       "1         0         0         0         0  \n",
       "2         0         0         0         0  \n",
       "3         0         0         0         0  \n",
       "4         0         0         0         0  \n",
       "\n",
       "[5 rows x 785 columns]"
      ]
     },
     "execution_count": 3,
     "metadata": {},
     "output_type": "execute_result"
    }
   ],
   "source": [
    "train.head()"
   ]
  },
  {
   "cell_type": "code",
   "execution_count": 4,
   "id": "1236af32",
   "metadata": {},
   "outputs": [
    {
     "data": {
      "text/plain": [
       "9"
      ]
     },
     "execution_count": 4,
     "metadata": {},
     "output_type": "execute_result"
    }
   ],
   "source": [
    "train['label'].max()"
   ]
  },
  {
   "cell_type": "code",
   "execution_count": 5,
   "id": "c43ed601",
   "metadata": {},
   "outputs": [
    {
     "data": {
      "text/plain": [
       "numpy.ndarray"
      ]
     },
     "execution_count": 5,
     "metadata": {},
     "output_type": "execute_result"
    }
   ],
   "source": [
    "type(train[\"label\"].values)"
   ]
  },
  {
   "cell_type": "code",
   "execution_count": 6,
   "id": "c5d1fb35",
   "metadata": {},
   "outputs": [],
   "source": [
    "original_y=train[\"label\"].values.reshape(1,train[\"label\"].values.shape[0])"
   ]
  },
  {
   "cell_type": "code",
   "execution_count": 7,
   "id": "5f693f4b",
   "metadata": {},
   "outputs": [
    {
     "data": {
      "text/plain": [
       "(1, 42000)"
      ]
     },
     "execution_count": 7,
     "metadata": {},
     "output_type": "execute_result"
    }
   ],
   "source": [
    "original_y.shape"
   ]
  },
  {
   "cell_type": "code",
   "execution_count": 8,
   "id": "0799f172",
   "metadata": {},
   "outputs": [],
   "source": [
    "original_x=train.drop(\"label\",axis=1).values.T"
   ]
  },
  {
   "cell_type": "code",
   "execution_count": 9,
   "id": "c709a8cb",
   "metadata": {},
   "outputs": [
    {
     "data": {
      "text/plain": [
       "array([[0, 0, 0, ..., 0, 0, 0],\n",
       "       [0, 0, 0, ..., 0, 0, 0],\n",
       "       [0, 0, 0, ..., 0, 0, 0],\n",
       "       ...,\n",
       "       [0, 0, 0, ..., 0, 0, 0],\n",
       "       [0, 0, 0, ..., 0, 0, 0],\n",
       "       [0, 0, 0, ..., 0, 0, 0]], dtype=int64)"
      ]
     },
     "execution_count": 9,
     "metadata": {},
     "output_type": "execute_result"
    }
   ],
   "source": [
    "original_x"
   ]
  },
  {
   "cell_type": "code",
   "execution_count": 10,
   "id": "5d4ed59f",
   "metadata": {},
   "outputs": [
    {
     "data": {
      "text/plain": [
       "array([[1, 0, 1, ..., 7, 6, 9]], dtype=int64)"
      ]
     },
     "execution_count": 10,
     "metadata": {},
     "output_type": "execute_result"
    }
   ],
   "source": [
    "original_y"
   ]
  },
  {
   "cell_type": "code",
   "execution_count": 11,
   "id": "04f0b3f4",
   "metadata": {},
   "outputs": [
    {
     "name": "stdout",
     "output_type": "stream",
     "text": [
      "shape of X is : (784, 42000)\n",
      "shape of Y is : (1, 42000)\n"
     ]
    }
   ],
   "source": [
    "print(\"shape of X is : \"+str(original_x.shape))\n",
    "print(\"shape of Y is : \"+str(original_y.shape))"
   ]
  },
  {
   "cell_type": "code",
   "execution_count": 12,
   "id": "e2896ae6",
   "metadata": {},
   "outputs": [],
   "source": [
    "dataset=np.array([1,2,0,-2,3])"
   ]
  },
  {
   "cell_type": "code",
   "execution_count": 13,
   "id": "73b06679",
   "metadata": {},
   "outputs": [
    {
     "data": {
      "text/plain": [
       "array([ 1,  2,  0, -2,  3])"
      ]
     },
     "execution_count": 13,
     "metadata": {},
     "output_type": "execute_result"
    }
   ],
   "source": [
    "dataset"
   ]
  },
  {
   "cell_type": "code",
   "execution_count": 14,
   "id": "37881a4b",
   "metadata": {},
   "outputs": [],
   "source": [
    "def relu(z):\n",
    "    return np.maximum(0,z)"
   ]
  },
  {
   "cell_type": "code",
   "execution_count": 15,
   "id": "b1fb23a2",
   "metadata": {},
   "outputs": [],
   "source": [
    "ans=relu(dataset)"
   ]
  },
  {
   "cell_type": "code",
   "execution_count": 16,
   "id": "408e1cd5",
   "metadata": {},
   "outputs": [
    {
     "name": "stdout",
     "output_type": "stream",
     "text": [
      "[1 2 0 0 3]\n"
     ]
    }
   ],
   "source": [
    "print(ans)"
   ]
  },
  {
   "cell_type": "code",
   "execution_count": 17,
   "id": "08bd38bd",
   "metadata": {},
   "outputs": [],
   "source": [
    "import numpy as np\n",
    "import pandas as pd\n",
    "from matplotlib import pyplot as plt\n",
    "\n",
    "data = pd.read_csv('train.csv')"
   ]
  },
  {
   "cell_type": "code",
   "execution_count": 18,
   "id": "7106d781",
   "metadata": {},
   "outputs": [],
   "source": [
    "data = np.array(data)\n",
    "m, n = data.shape\n",
    "np.random.shuffle(data) # shuffle before splitting into dev and training sets\n",
    "\n",
    "data_dev = data[0:1000].T\n",
    "Y_dev = data_dev[0]\n",
    "X_dev = data_dev[1:n]\n",
    "X_dev = X_dev / 255.\n",
    "\n",
    "data_train = data[1000:m].T\n",
    "Y_train = data_train[0]\n",
    "X_train = data_train[1:n]\n",
    "X_train = X_train / 255.\n",
    "_,m_train = X_train.shape"
   ]
  },
  {
   "cell_type": "code",
   "execution_count": 19,
   "id": "1a3dd7e2",
   "metadata": {},
   "outputs": [],
   "source": [
    "def init_params():\n",
    "    W1 = np.random.rand(10, 784) - 0.5\n",
    "    b1 = np.random.rand(10, 1) - 0.5\n",
    "    W2 = np.random.rand(10, 10) - 0.5\n",
    "    b2 = np.random.rand(10, 1) - 0.5\n",
    "    return W1, b1, W2, b2\n",
    "\n",
    "def ReLU(Z):\n",
    "    return np.maximum(Z, 0)\n",
    "\n",
    "def softmax(Z):\n",
    "    A = np.exp(Z) / sum(np.exp(Z))\n",
    "    return A\n",
    "    \n",
    "def forward_prop(W1, b1, W2, b2, X):\n",
    "    Z1 = W1.dot(X) + b1\n",
    "    A1 = ReLU(Z1)\n",
    "    Z2 = W2.dot(A1) + b2\n",
    "    A2 = softmax(Z2)\n",
    "    return Z1, A1, Z2, A2\n",
    "\n",
    "def ReLU_deriv(Z):\n",
    "    return Z > 0\n",
    "def one_hot(Y):\n",
    "    one_hot_Y = np.zeros((Y.size, Y.max() + 1))\n",
    "    one_hot_Y[np.arange(Y.size), Y] = 1\n",
    "    one_hot_Y = one_hot_Y.T\n",
    "    return one_hot_Y\n",
    "\n",
    "def backward_prop(Z1, A1, Z2, A2, W1, W2, X, Y):\n",
    "    one_hot_Y = one_hot(Y)\n",
    "    dZ2 = A2 - one_hot_Y\n",
    "    dW2 = 1 / m * dZ2.dot(A1.T)\n",
    "    db2 = 1 / m * np.sum(dZ2)\n",
    "    dZ1 = W2.T.dot(dZ2) * ReLU_deriv(Z1)\n",
    "    dW1 = 1 / m * dZ1.dot(X.T)\n",
    "    db1 = 1 / m * np.sum(dZ1)\n",
    "    return dW1, db1, dW2, db2\n",
    "\n",
    "def update_params(W1, b1, W2, b2, dW1, db1, dW2, db2, alpha):\n",
    "    W1 = W1 - alpha * dW1\n",
    "    b1 = b1 - alpha * db1    \n",
    "    W2 = W2 - alpha * dW2  \n",
    "    b2 = b2 - alpha * db2    \n",
    "    return W1, b1, W2, b2"
   ]
  },
  {
   "cell_type": "code",
   "execution_count": 20,
   "id": "3317a146",
   "metadata": {},
   "outputs": [],
   "source": [
    "def get_predictions(A2):\n",
    "    return np.argmax(A2, 0)\n",
    "\n",
    "def get_accuracy(predictions, Y):\n",
    "    print(predictions, Y)\n",
    "    return np.sum(predictions == Y) / Y.size\n",
    "\n",
    "def gradient_descent(X, Y, alpha, iterations):\n",
    "    W1, b1, W2, b2 = init_params()\n",
    "    for i in range(iterations):\n",
    "        Z1, A1, Z2, A2 = forward_prop(W1, b1, W2, b2, X)\n",
    "        dW1, db1, dW2, db2 = backward_prop(Z1, A1, Z2, A2, W1, W2, X, Y)\n",
    "        W1, b1, W2, b2 = update_params(W1, b1, W2, b2, dW1, db1, dW2, db2, alpha)\n",
    "        if i % 10 == 0:\n",
    "            print(\"Iteration: \", i)\n",
    "            predictions = get_predictions(A2)\n",
    "            print(get_accuracy(predictions, Y))\n",
    "    return W1, b1, W2, b2"
   ]
  },
  {
   "cell_type": "code",
   "execution_count": 21,
   "id": "75402654",
   "metadata": {},
   "outputs": [
    {
     "name": "stdout",
     "output_type": "stream",
     "text": [
      "Iteration:  0\n",
      "[9 2 9 ... 9 2 2] [8 3 7 ... 7 4 2]\n",
      "0.07897560975609756\n",
      "Iteration:  10\n",
      "[5 7 1 ... 1 8 6] [8 3 7 ... 7 4 2]\n",
      "0.2308048780487805\n",
      "Iteration:  20\n",
      "[9 7 1 ... 1 8 7] [8 3 7 ... 7 4 2]\n",
      "0.32607317073170733\n",
      "Iteration:  30\n",
      "[9 7 1 ... 1 8 8] [8 3 7 ... 7 4 2]\n",
      "0.39170731707317075\n",
      "Iteration:  40\n",
      "[5 7 1 ... 6 2 8] [8 3 7 ... 7 4 2]\n",
      "0.4398048780487805\n",
      "Iteration:  50\n",
      "[5 7 1 ... 6 2 8] [8 3 7 ... 7 4 2]\n",
      "0.48141463414634145\n",
      "Iteration:  60\n",
      "[5 7 1 ... 1 2 2] [8 3 7 ... 7 4 2]\n",
      "0.5168292682926829\n",
      "Iteration:  70\n",
      "[5 7 1 ... 1 2 2] [8 3 7 ... 7 4 2]\n",
      "0.5511463414634147\n",
      "Iteration:  80\n",
      "[5 7 1 ... 1 2 2] [8 3 7 ... 7 4 2]\n",
      "0.5825365853658536\n",
      "Iteration:  90\n",
      "[8 7 1 ... 1 2 2] [8 3 7 ... 7 4 2]\n",
      "0.6152682926829268\n",
      "Iteration:  100\n",
      "[8 7 1 ... 9 2 2] [8 3 7 ... 7 4 2]\n",
      "0.6426829268292683\n",
      "Iteration:  110\n",
      "[8 5 1 ... 9 2 2] [8 3 7 ... 7 4 2]\n",
      "0.6681463414634147\n",
      "Iteration:  120\n",
      "[8 9 1 ... 9 4 2] [8 3 7 ... 7 4 2]\n",
      "0.6902439024390243\n",
      "Iteration:  130\n",
      "[8 9 1 ... 9 4 2] [8 3 7 ... 7 4 2]\n",
      "0.7079512195121951\n",
      "Iteration:  140\n",
      "[8 8 1 ... 9 4 2] [8 3 7 ... 7 4 2]\n",
      "0.7227560975609756\n",
      "Iteration:  150\n",
      "[8 8 1 ... 9 4 2] [8 3 7 ... 7 4 2]\n",
      "0.7361707317073171\n",
      "Iteration:  160\n",
      "[8 8 1 ... 9 4 2] [8 3 7 ... 7 4 2]\n",
      "0.7471951219512195\n",
      "Iteration:  170\n",
      "[8 8 1 ... 9 4 2] [8 3 7 ... 7 4 2]\n",
      "0.7573170731707317\n",
      "Iteration:  180\n",
      "[8 8 1 ... 9 4 2] [8 3 7 ... 7 4 2]\n",
      "0.7658048780487805\n",
      "Iteration:  190\n",
      "[8 8 1 ... 9 4 2] [8 3 7 ... 7 4 2]\n",
      "0.773390243902439\n",
      "Iteration:  200\n",
      "[8 3 1 ... 9 4 2] [8 3 7 ... 7 4 2]\n",
      "0.7800975609756098\n",
      "Iteration:  210\n",
      "[8 3 1 ... 9 4 2] [8 3 7 ... 7 4 2]\n",
      "0.7854878048780488\n",
      "Iteration:  220\n",
      "[8 3 1 ... 9 4 2] [8 3 7 ... 7 4 2]\n",
      "0.7906829268292683\n",
      "Iteration:  230\n",
      "[8 3 1 ... 9 4 2] [8 3 7 ... 7 4 2]\n",
      "0.7951463414634147\n",
      "Iteration:  240\n",
      "[8 3 1 ... 9 4 2] [8 3 7 ... 7 4 2]\n",
      "0.7999024390243903\n",
      "Iteration:  250\n",
      "[8 3 1 ... 9 4 2] [8 3 7 ... 7 4 2]\n",
      "0.804439024390244\n",
      "Iteration:  260\n",
      "[8 3 1 ... 9 4 2] [8 3 7 ... 7 4 2]\n",
      "0.8084878048780488\n",
      "Iteration:  270\n",
      "[8 3 1 ... 9 4 2] [8 3 7 ... 7 4 2]\n",
      "0.8123170731707318\n",
      "Iteration:  280\n",
      "[8 3 1 ... 9 4 2] [8 3 7 ... 7 4 2]\n",
      "0.816\n",
      "Iteration:  290\n",
      "[8 3 1 ... 9 4 2] [8 3 7 ... 7 4 2]\n",
      "0.818780487804878\n",
      "Iteration:  300\n",
      "[8 3 1 ... 9 4 2] [8 3 7 ... 7 4 2]\n",
      "0.8212682926829268\n",
      "Iteration:  310\n",
      "[3 3 1 ... 9 4 2] [8 3 7 ... 7 4 2]\n",
      "0.824\n",
      "Iteration:  320\n",
      "[3 3 1 ... 9 4 2] [8 3 7 ... 7 4 2]\n",
      "0.8265121951219512\n",
      "Iteration:  330\n",
      "[3 3 1 ... 9 4 2] [8 3 7 ... 7 4 2]\n",
      "0.829\n",
      "Iteration:  340\n",
      "[3 3 1 ... 9 4 2] [8 3 7 ... 7 4 2]\n",
      "0.8311219512195122\n",
      "Iteration:  350\n",
      "[3 3 1 ... 9 4 2] [8 3 7 ... 7 4 2]\n",
      "0.8331463414634146\n",
      "Iteration:  360\n",
      "[3 3 1 ... 9 4 2] [8 3 7 ... 7 4 2]\n",
      "0.8350487804878048\n",
      "Iteration:  370\n",
      "[3 3 1 ... 9 4 2] [8 3 7 ... 7 4 2]\n",
      "0.8370243902439024\n",
      "Iteration:  380\n",
      "[3 3 1 ... 9 4 2] [8 3 7 ... 7 4 2]\n",
      "0.8390731707317073\n",
      "Iteration:  390\n",
      "[3 3 1 ... 9 4 2] [8 3 7 ... 7 4 2]\n",
      "0.8406829268292683\n",
      "Iteration:  400\n",
      "[3 3 1 ... 9 4 2] [8 3 7 ... 7 4 2]\n",
      "0.8424390243902439\n",
      "Iteration:  410\n",
      "[3 3 1 ... 9 4 2] [8 3 7 ... 7 4 2]\n",
      "0.8437560975609756\n",
      "Iteration:  420\n",
      "[3 3 1 ... 9 4 2] [8 3 7 ... 7 4 2]\n",
      "0.8454390243902439\n",
      "Iteration:  430\n",
      "[3 3 1 ... 9 4 2] [8 3 7 ... 7 4 2]\n",
      "0.8467317073170731\n",
      "Iteration:  440\n",
      "[3 3 1 ... 9 4 2] [8 3 7 ... 7 4 2]\n",
      "0.8480731707317073\n",
      "Iteration:  450\n",
      "[3 3 1 ... 9 4 2] [8 3 7 ... 7 4 2]\n",
      "0.8492439024390244\n",
      "Iteration:  460\n",
      "[3 3 1 ... 9 4 2] [8 3 7 ... 7 4 2]\n",
      "0.85\n",
      "Iteration:  470\n",
      "[3 3 1 ... 9 4 2] [8 3 7 ... 7 4 2]\n",
      "0.851390243902439\n",
      "Iteration:  480\n",
      "[3 3 1 ... 9 4 2] [8 3 7 ... 7 4 2]\n",
      "0.8521463414634146\n",
      "Iteration:  490\n",
      "[3 3 1 ... 7 4 2] [8 3 7 ... 7 4 2]\n",
      "0.853609756097561\n"
     ]
    }
   ],
   "source": [
    "W1, b1, W2, b2 = gradient_descent(X_train, Y_train, 0.10, 500)"
   ]
  },
  {
   "cell_type": "code",
   "execution_count": 22,
   "id": "5ad9c6b8",
   "metadata": {},
   "outputs": [],
   "source": [
    "def make_predictions(X, W1, b1, W2, b2):\n",
    "    _, _, _, A2 = forward_prop(W1, b1, W2, b2, X)\n",
    "    predictions = get_predictions(A2)\n",
    "    return predictions\n",
    "\n",
    "def test_prediction(index, W1, b1, W2, b2):\n",
    "    current_image = X_train[:, index, None]\n",
    "    prediction = make_predictions(X_train[:, index, None], W1, b1, W2, b2)\n",
    "    label = Y_train[index]\n",
    "    print(\"Prediction: \", prediction)\n",
    "    print(\"Label: \", label)\n",
    "    \n",
    "    current_image = current_image.reshape((28, 28)) * 255\n",
    "    plt.gray()\n",
    "    plt.imshow(current_image, interpolation='nearest')\n",
    "    plt.show()"
   ]
  },
  {
   "cell_type": "code",
   "execution_count": 23,
   "id": "820ade34",
   "metadata": {},
   "outputs": [
    {
     "name": "stdout",
     "output_type": "stream",
     "text": [
      "Prediction:  [3]\n",
      "Label:  8\n"
     ]
    },
    {
     "data": {
      "image/png": "[encoded data removed]",
      "text/plain": [
       "<Figure size 432x288 with 1 Axes>"
      ]
     },
     "metadata": {
      "needs_background": "light"
     },
     "output_type": "display_data"
    },
    {
     "name": "stdout",
     "output_type": "stream",
     "text": [
      "Prediction:  [3]\n",
      "Label:  3\n"
     ]
    },
    {
     "data": {
      "image/png": "[encoded data removed]",
      "text/plain": [
       "<Figure size 432x288 with 1 Axes>"
      ]
     },
     "metadata": {
      "needs_background": "light"
     },
     "output_type": "display_data"
    },
    {
     "name": "stdout",
     "output_type": "stream",
     "text": [
      "Prediction:  [1]\n",
      "Label:  7\n"
     ]
    },
    {
     "data": {
      "image/png": "[encoded data removed]",
      "text/plain": [
       "<Figure size 432x288 with 1 Axes>"
      ]
     },
     "metadata": {
      "needs_background": "light"
     },
     "output_type": "display_data"
    },
    {
     "name": "stdout",
     "output_type": "stream",
     "text": [
      "Prediction:  [4]\n",
      "Label:  4\n"
     ]
    },
    {
     "data": {
      "image/png": "[encoded data removed]",
      "text/plain": [
       "<Figure size 432x288 with 1 Axes>"
      ]
     },
     "metadata": {
      "needs_background": "light"
     },
     "output_type": "display_data"
    }
   ],
   "source": [
    "test_prediction(0, W1, b1, W2, b2)\n",
    "test_prediction(1, W1, b1, W2, b2)\n",
    "test_prediction(2, W1, b1, W2, b2)\n",
    "test_prediction(3, W1, b1, W2, b2)"
   ]
  },
  {
   "cell_type": "code",
   "execution_count": 34,
   "id": "9ed95d5a",
   "metadata": {},
   "outputs": [],
   "source": [
    "p=np.array([[3,2],[4,5]])"
   ]
  },
  {
   "cell_type": "code",
   "execution_count": 35,
   "id": "5e165c93",
   "metadata": {},
   "outputs": [
    {
     "data": {
      "text/plain": [
       "array([[3, 2],\n",
       "       [4, 5]])"
      ]
     },
     "execution_count": 35,
     "metadata": {},
     "output_type": "execute_result"
    }
   ],
   "source": [
    "p"
   ]
  },
  {
   "cell_type": "code",
   "execution_count": 67,
   "id": "d2c6ca1e",
   "metadata": {},
   "outputs": [],
   "source": [
    "y=np.array([[0,1],[1,0]])"
   ]
  },
  {
   "cell_type": "code",
   "execution_count": 64,
   "id": "12644333",
   "metadata": {},
   "outputs": [
    {
     "data": {
      "text/plain": [
       "array([1, 1], dtype=int64)"
      ]
     },
     "execution_count": 64,
     "metadata": {},
     "output_type": "execute_result"
    }
   ],
   "source": [
    "np.argmax(p,0)"
   ]
  },
  {
   "cell_type": "code",
   "execution_count": 68,
   "id": "978be80f",
   "metadata": {},
   "outputs": [
    {
     "data": {
      "text/plain": [
       "array([1, 0], dtype=int64)"
      ]
     },
     "execution_count": 68,
     "metadata": {},
     "output_type": "execute_result"
    }
   ],
   "source": [
    "np.argmax(y,0)"
   ]
  },
  {
   "cell_type": "code",
   "execution_count": 69,
   "id": "1b3f35d9",
   "metadata": {},
   "outputs": [
    {
     "data": {
      "text/plain": [
       "1"
      ]
     },
     "execution_count": 69,
     "metadata": {},
     "output_type": "execute_result"
    }
   ],
   "source": [
    "np.sum(np.argmax(p,0)==np.argmax(y,0))"
   ]
  },
  {
   "cell_type": "code",
   "execution_count": 74,
   "id": "dc86026b",
   "metadata": {},
   "outputs": [],
   "source": [
    "zz=np.array([[1.2,3.4,-0.2],[-2.4,0,1]])"
   ]
  },
  {
   "cell_type": "code",
   "execution_count": 75,
   "id": "485967f2",
   "metadata": {},
   "outputs": [],
   "source": [
    "temp=zz"
   ]
  },
  {
   "cell_type": "code",
   "execution_count": 72,
   "id": "c8711b2f",
   "metadata": {},
   "outputs": [
    {
     "data": {
      "text/plain": [
       "array([[ True,  True, False],\n",
       "       [False, False,  True]])"
      ]
     },
     "execution_count": 72,
     "metadata": {},
     "output_type": "execute_result"
    }
   ],
   "source": [
    "temp>0"
   ]
  },
  {
   "cell_type": "code",
   "execution_count": 73,
   "id": "279d6843",
   "metadata": {},
   "outputs": [
    {
     "data": {
      "text/plain": [
       "array([[1.2, 3.4, 0. ],\n",
       "       [0. , 0. , 1. ]])"
      ]
     },
     "execution_count": 73,
     "metadata": {},
     "output_type": "execute_result"
    }
   ],
   "source": [
    "for i in range(temp.shape[0]):\n",
    "    for j in range(temp.shape[1]):\n",
    "        if temp[i][j]<=0:\n",
    "            temp[i][j]=0\n",
    "temp"
   ]
  },
  {
   "cell_type": "code",
   "execution_count": 76,
   "id": "41ed50d2",
   "metadata": {},
   "outputs": [
    {
     "data": {
      "text/plain": [
       "array([[ 1.2,  3.4, -0.2],\n",
       "       [-2.4,  0. ,  1. ]])"
      ]
     },
     "execution_count": 76,
     "metadata": {},
     "output_type": "execute_result"
    }
   ],
   "source": [
    "zz"
   ]
  },
  {
   "cell_type": "code",
   "execution_count": null,
   "id": "c1ebb683",
   "metadata": {},
   "outputs": [],
   "source": []
  },
  {
   "cell_type": "code",
   "execution_count": 77,
   "id": "92083c2a",
   "metadata": {},
   "outputs": [],
   "source": [
    "y=np.array([[2,3,8,9,1,0,5]])"
   ]
  },
  {
   "cell_type": "code",
   "execution_count": 80,
   "id": "d2f72864",
   "metadata": {},
   "outputs": [],
   "source": [
    "temp_y=np.zeros((y.shape[1],10))"
   ]
  },
  {
   "cell_type": "code",
   "execution_count": 81,
   "id": "7efd0955",
   "metadata": {},
   "outputs": [
    {
     "data": {
      "text/plain": [
       "array([[0., 0., 0., 0., 0., 0., 0., 0., 0., 0.],\n",
       "       [0., 0., 0., 0., 0., 0., 0., 0., 0., 0.],\n",
       "       [0., 0., 0., 0., 0., 0., 0., 0., 0., 0.],\n",
       "       [0., 0., 0., 0., 0., 0., 0., 0., 0., 0.],\n",
       "       [0., 0., 0., 0., 0., 0., 0., 0., 0., 0.],\n",
       "       [0., 0., 0., 0., 0., 0., 0., 0., 0., 0.],\n",
       "       [0., 0., 0., 0., 0., 0., 0., 0., 0., 0.]])"
      ]
     },
     "execution_count": 81,
     "metadata": {},
     "output_type": "execute_result"
    }
   ],
   "source": [
    "temp_y"
   ]
  },
  {
   "cell_type": "code",
   "execution_count": 82,
   "id": "7708a6d5",
   "metadata": {},
   "outputs": [],
   "source": [
    "temp_y[np.arange(y.shape[1]),y]=1"
   ]
  },
  {
   "cell_type": "code",
   "execution_count": 84,
   "id": "c5db7e68",
   "metadata": {},
   "outputs": [
    {
     "data": {
      "text/plain": [
       "array([[0., 0., 0., 0., 0., 1., 0.],\n",
       "       [0., 0., 0., 0., 1., 0., 0.],\n",
       "       [1., 0., 0., 0., 0., 0., 0.],\n",
       "       [0., 1., 0., 0., 0., 0., 0.],\n",
       "       [0., 0., 0., 0., 0., 0., 0.],\n",
       "       [0., 0., 0., 0., 0., 0., 1.],\n",
       "       [0., 0., 0., 0., 0., 0., 0.],\n",
       "       [0., 0., 0., 0., 0., 0., 0.],\n",
       "       [0., 0., 1., 0., 0., 0., 0.],\n",
       "       [0., 0., 0., 1., 0., 0., 0.]])"
      ]
     },
     "execution_count": 84,
     "metadata": {},
     "output_type": "execute_result"
    }
   ],
   "source": [
    "temp_y.T"
   ]
  },
  {
   "cell_type": "code",
   "execution_count": null,
   "id": "fa3e8189",
   "metadata": {},
   "outputs": [],
   "source": []
  },
  {
   "cell_type": "code",
   "execution_count": null,
   "id": "3d0dcfff",
   "metadata": {},
   "outputs": [],
   "source": []
  },
  {
   "cell_type": "code",
   "execution_count": null,
   "id": "d3ec879c",
   "metadata": {},
   "outputs": [],
   "source": []
  },
  {
   "cell_type": "code",
   "execution_count": null,
   "id": "14ee26fa",
   "metadata": {},
   "outputs": [],
   "source": [
    "def get_predictions(A2):\n",
    "    return np.argmax(A2, 0)"
   ]
  },
  {
   "cell_type": "code",
   "execution_count": null,
   "id": "dc74287e",
   "metadata": {},
   "outputs": [],
   "source": [
    "def get_accuracy(predictions, Y):\n",
    "    print(predictions, Y)\n",
    "    return np.sum(predictions == Y) / Y.size"
   ]
  }
 ],
 "metadata": {
  "kernelspec": {
   "display_name": "Python 3 (ipykernel)",
   "language": "python",
   "name": "python3"
  },
  "language_info": {
   "codemirror_mode": {
    "name": "ipython",
    "version": 3
   },
   "file_extension": ".py",
   "mimetype": "text/x-python",
   "name": "python",
   "nbconvert_exporter": "python",
   "pygments_lexer": "ipython3",
   "version": "3.9.0"
  }
 },
 "nbformat": 4,
 "nbformat_minor": 5
}
